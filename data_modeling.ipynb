{
 "cells": [
  {
   "cell_type": "code",
   "execution_count": 1,
   "metadata": {},
   "outputs": [],
   "source": [
    "from utilities import *"
   ]
  },
  {
   "cell_type": "markdown",
   "metadata": {},
   "source": [
    "DATA PRE-PROCESSING"
   ]
  },
  {
   "cell_type": "code",
   "execution_count": 2,
   "metadata": {},
   "outputs": [],
   "source": [
    "Data = pd.read_csv('Churn.csv')\n",
    "df =Data.copy()"
   ]
  },
  {
   "cell_type": "code",
   "execution_count": 3,
   "metadata": {},
   "outputs": [
    {
     "data": {
      "text/plain": [
       "Index(['RowNumber', 'CustomerId', 'Surname', 'CreditScore', 'Geography',\n",
       "       'Gender', 'Age', 'Tenure', 'Balance', 'NumOfProducts', 'HasCrCard',\n",
       "       'IsActiveMember', 'EstimatedSalary', 'Exited'],\n",
       "      dtype='object')"
      ]
     },
     "execution_count": 3,
     "metadata": {},
     "output_type": "execute_result"
    }
   ],
   "source": [
    "df.columns"
   ]
  },
  {
   "cell_type": "code",
   "execution_count": 4,
   "metadata": {},
   "outputs": [],
   "source": [
    "# dropping columns rownumber, customerid and surname as they will not add value to the models:\n",
    "df.drop(['CustomerId','Surname'], axis=1, inplace=True)"
   ]
  },
  {
   "cell_type": "markdown",
   "metadata": {},
   "source": [
    "Binning the Age column to create a categorical variable. "
   ]
  },
  {
   "cell_type": "code",
   "execution_count": 5,
   "metadata": {},
   "outputs": [],
   "source": [
    "# Binning the age column\n",
    "df['Age'].unique()\n",
    "\n",
    "# Define bins and labels for the age groups\n",
    "bins = [18, 30, 40, 50, 60, 93]\n",
    "labels = ['18-29', '30-39', '40-49', '50-59', '60+']\n",
    "\n",
    "# Bin the ages\n",
    "age_groups = pd.cut(df['Age'], bins=bins, labels=labels, right=False)\n",
    "\n",
    "# Display the binned ages\n",
    "age_groups\n",
    "#adding this to the df\n",
    "df = df.assign(Age_binned=age_groups)\n"
   ]
  },
  {
   "cell_type": "markdown",
   "metadata": {},
   "source": [
    "Binning the creditscore column to create a categorical variable"
   ]
  },
  {
   "cell_type": "code",
   "execution_count": 6,
   "metadata": {},
   "outputs": [],
   "source": [
    "# binning the creditscore column\n",
    "# Define bins for credit score ranges\n",
    "credit_bins = [349, 450, 550, 650, 750, 850]\n",
    "credit_labels = ['350-449', '450-549', '550-649', '650-749', '750-850']\n",
    "\n",
    "# Bin the credit scores\n",
    "credit_score_groups = pd.cut(df['CreditScore'], bins=credit_bins, labels=credit_labels, right=True)\n",
    "\n",
    "# Display the binned credit scores\n",
    "credit_score_groups\n",
    "#adding this to the df\n",
    "df = df.assign(CreditScore_binned=credit_score_groups)"
   ]
  },
  {
   "cell_type": "code",
   "execution_count": 7,
   "metadata": {},
   "outputs": [],
   "source": [
    "# dropping the columns RowNumber, Age and CreditScore\n",
    "data = df.drop(['RowNumber','Age','CreditScore'], axis=1)"
   ]
  },
  {
   "cell_type": "code",
   "execution_count": 8,
   "metadata": {},
   "outputs": [
    {
     "name": "stdout",
     "output_type": "stream",
     "text": [
      "<class 'pandas.core.frame.DataFrame'>\n",
      "RangeIndex: 10000 entries, 0 to 9999\n",
      "Data columns (total 11 columns):\n",
      " #   Column              Non-Null Count  Dtype   \n",
      "---  ------              --------------  -----   \n",
      " 0   Geography           10000 non-null  category\n",
      " 1   Gender              10000 non-null  category\n",
      " 2   Tenure              10000 non-null  int64   \n",
      " 3   Balance             10000 non-null  float64 \n",
      " 4   NumOfProducts       10000 non-null  int64   \n",
      " 5   HasCrCard           10000 non-null  int64   \n",
      " 6   IsActiveMember      10000 non-null  int64   \n",
      " 7   EstimatedSalary     10000 non-null  float64 \n",
      " 8   Exited              10000 non-null  int64   \n",
      " 9   Age_binned          10000 non-null  category\n",
      " 10  CreditScore_binned  10000 non-null  category\n",
      "dtypes: category(4), float64(2), int64(5)\n",
      "memory usage: 586.7 KB\n"
     ]
    }
   ],
   "source": [
    "# Loop through the columns and convert only object columns to categorical\n",
    "for column in data.columns:\n",
    "    if data[column].dtype == 'object':\n",
    "        data[column] = data[column].astype('category')\n",
    "\n",
    "data.info()"
   ]
  },
  {
   "cell_type": "markdown",
   "metadata": {},
   "source": [
    "TRAIN -VALIDATION-TEST-SPLIT"
   ]
  },
  {
   "cell_type": "code",
   "execution_count": 9,
   "metadata": {},
   "outputs": [
    {
     "name": "stdout",
     "output_type": "stream",
     "text": [
      "(6400, 10) (6400,)\n",
      "(1600, 10) (1600,)\n",
      "(2000, 10) (2000,)\n"
     ]
    }
   ],
   "source": [
    "# sepearting independent from dependent variables\n",
    "X = data.drop(['Exited'],axis=1)\n",
    "Y = data['Exited']\n",
    "\n",
    "# Splitting the dataset into the Training and Test set.\n",
    "X_train, X_test, y_train, y_test = train_test_split(X,Y, test_size = 0.2, random_state = 42,stratify = Y)\n",
    "\n",
    "\n",
    "# Splitting the Train dataset into the Training and Validation set.\n",
    "X_train, X_valid, y_train, y_valid = train_test_split(X_train,y_train, test_size = 0.2, random_state = 42,stratify = y_train)\n",
    "\n",
    "\n",
    "#Printing the shapes.\n",
    "print(X_train.shape,y_train.shape)\n",
    "print(X_valid.shape,y_valid.shape)\n",
    "print(X_test.shape,y_test.shape)"
   ]
  },
  {
   "cell_type": "markdown",
   "metadata": {},
   "source": [
    "Dummy variable creation of categorical cariables"
   ]
  },
  {
   "cell_type": "code",
   "execution_count": 10,
   "metadata": {},
   "outputs": [
    {
     "name": "stdout",
     "output_type": "stream",
     "text": [
      "(6400, 17) (1600, 17) (2000, 17)\n"
     ]
    },
    {
     "data": {
      "text/plain": [
       "Index(['Tenure', 'Balance', 'NumOfProducts', 'HasCrCard', 'IsActiveMember',\n",
       "       'EstimatedSalary', 'Geography_Germany', 'Geography_Spain',\n",
       "       'Gender_Male', 'Age_binned_30-39', 'Age_binned_40-49',\n",
       "       'Age_binned_50-59', 'Age_binned_60+', 'CreditScore_binned_450-549',\n",
       "       'CreditScore_binned_550-649', 'CreditScore_binned_650-749',\n",
       "       'CreditScore_binned_750-850'],\n",
       "      dtype='object')"
      ]
     },
     "execution_count": 10,
     "metadata": {},
     "output_type": "execute_result"
    }
   ],
   "source": [
    "# creating dummy variables\n",
    "X_train = pd.get_dummies(X_train,drop_first = True)\n",
    "X_valid = pd.get_dummies(X_valid,drop_first = True)\n",
    "X_test = pd.get_dummies(X_test,drop_first = True)\n",
    "\n",
    "print(X_train.shape, X_valid.shape, X_test.shape)\n",
    "X_train.head()\n",
    "X_train.columns"
   ]
  },
  {
   "cell_type": "markdown",
   "metadata": {},
   "source": [
    "Data normalization "
   ]
  },
  {
   "cell_type": "code",
   "execution_count": 11,
   "metadata": {},
   "outputs": [],
   "source": [
    "#Standardizing the numerical variables to zero mean and unit variance.\n",
    "transformer = StandardScaler()\n",
    "X_train[['Tenure','Balance','NumOfProducts','EstimatedSalary']] = transformer.fit_transform(X_train[['Tenure','Balance','NumOfProducts','EstimatedSalary']])\n",
    "X_valid[['Tenure','Balance','NumOfProducts','EstimatedSalary']] = transformer.fit_transform(X_valid[['Tenure','Balance','NumOfProducts','EstimatedSalary']])\n",
    "X_test[['Tenure','Balance','NumOfProducts','EstimatedSalary']] = transformer.fit_transform(X_test[['Tenure','Balance','NumOfProducts','EstimatedSalary']])"
   ]
  },
  {
   "cell_type": "markdown",
   "metadata": {},
   "source": [
    "Building base model"
   ]
  },
  {
   "cell_type": "markdown",
   "metadata": {},
   "source": [
    "The model can make wrong predictions as:\n",
    "predicting the customer did not leave the bank and the customer actually leaving the bank.\n",
    "Predicting the customer leaving the bank and the customer actually not leaving the bank.\n",
    "Predicting the customer not leaving the bank and the customer actually leaving the bank is a more important case.\n",
    "The company would want recall to be minimized, as the greater the recall the higher the chances of minimizing false negatives.\n",
    "Hence the metric of importance is RECALL."
   ]
  },
  {
   "cell_type": "markdown",
   "metadata": {},
   "source": [
    "Neural Network with SGD Optimizer"
   ]
  },
  {
   "cell_type": "code",
   "execution_count": 12,
   "metadata": {},
   "outputs": [],
   "source": [
    "# defining the batch size and # epochs upfront as I'll be using the same values for all models\n",
    "epochs = 25\n",
    "batch_size = 64"
   ]
  },
  {
   "cell_type": "markdown",
   "metadata": {},
   "source": [
    "This neural network consists of:\n",
    "2 hidden layers with 14 and 7 neurons respectively\n",
    "Relu activation for both hidden layers\n",
    "SGD as optimizer\n",
    "sigmoid activation for output layer because it is a binary classification problem."
   ]
  },
  {
   "cell_type": "code",
   "execution_count": 13,
   "metadata": {},
   "outputs": [
    {
     "name": "stdout",
     "output_type": "stream",
     "text": [
      "Model: \"sequential\"\n",
      "_________________________________________________________________\n",
      " Layer (type)                Output Shape              Param #   \n",
      "=================================================================\n",
      " dense (Dense)               (None, 14)                252       \n",
      "                                                                 \n",
      " dense_1 (Dense)             (None, 7)                 105       \n",
      "                                                                 \n",
      " dense_2 (Dense)             (None, 1)                 8         \n",
      "                                                                 \n",
      "=================================================================\n",
      "Total params: 365 (1.43 KB)\n",
      "Trainable params: 365 (1.43 KB)\n",
      "Non-trainable params: 0 (0.00 Byte)\n",
      "_________________________________________________________________\n"
     ]
    }
   ],
   "source": [
    "#Initializing the neural network\n",
    "model = Sequential()\n",
    "model.add(Dense(14,activation=\"relu\",input_dim=X_train.shape[1]))\n",
    "model.add(Dense(7,activation=\"relu\"))\n",
    "model.add(Dense(1,activation=\"sigmoid\"))\n",
    "\n",
    "model.summary()"
   ]
  },
  {
   "cell_type": "code",
   "execution_count": 14,
   "metadata": {},
   "outputs": [
    {
     "name": "stderr",
     "output_type": "stream",
     "text": [
      "WARNING:absl:At this time, the v2.11+ optimizer `tf.keras.optimizers.SGD` runs slowly on M1/M2 Macs, please use the legacy Keras optimizer instead, located at `tf.keras.optimizers.legacy.SGD`.\n"
     ]
    },
    {
     "name": "stdout",
     "output_type": "stream",
     "text": [
      "Epoch 1/25\n",
      "100/100 [==============================] - 0s 2ms/step - loss: 0.7398 - val_loss: 0.6567\n",
      "Epoch 2/25\n",
      "100/100 [==============================] - 0s 949us/step - loss: 0.6149 - val_loss: 0.5869\n",
      "Epoch 3/25\n",
      "100/100 [==============================] - 0s 1ms/step - loss: 0.5672 - val_loss: 0.5533\n",
      "Epoch 4/25\n",
      "100/100 [==============================] - 0s 1ms/step - loss: 0.5423 - val_loss: 0.5347\n",
      "Epoch 5/25\n",
      "100/100 [==============================] - 0s 661us/step - loss: 0.5278 - val_loss: 0.5235\n",
      "Epoch 6/25\n",
      "100/100 [==============================] - 0s 637us/step - loss: 0.5188 - val_loss: 0.5164\n",
      "Epoch 7/25\n",
      "100/100 [==============================] - 0s 676us/step - loss: 0.5130 - val_loss: 0.5117\n",
      "Epoch 8/25\n",
      "100/100 [==============================] - 0s 637us/step - loss: 0.5091 - val_loss: 0.5085\n",
      "Epoch 9/25\n",
      "100/100 [==============================] - 0s 652us/step - loss: 0.5063 - val_loss: 0.5062\n",
      "Epoch 10/25\n",
      "100/100 [==============================] - 0s 630us/step - loss: 0.5043 - val_loss: 0.5045\n",
      "Epoch 11/25\n",
      "100/100 [==============================] - 0s 638us/step - loss: 0.5027 - val_loss: 0.5031\n",
      "Epoch 12/25\n",
      "100/100 [==============================] - 0s 635us/step - loss: 0.5014 - val_loss: 0.5020\n",
      "Epoch 13/25\n",
      "100/100 [==============================] - 0s 638us/step - loss: 0.5003 - val_loss: 0.5009\n",
      "Epoch 14/25\n",
      "100/100 [==============================] - 0s 628us/step - loss: 0.4992 - val_loss: 0.5000\n",
      "Epoch 15/25\n",
      "100/100 [==============================] - 0s 631us/step - loss: 0.4981 - val_loss: 0.4990\n",
      "Epoch 16/25\n",
      "100/100 [==============================] - 0s 638us/step - loss: 0.4970 - val_loss: 0.4980\n",
      "Epoch 17/25\n",
      "100/100 [==============================] - 0s 637us/step - loss: 0.4959 - val_loss: 0.4969\n",
      "Epoch 18/25\n",
      "100/100 [==============================] - 0s 631us/step - loss: 0.4947 - val_loss: 0.4958\n",
      "Epoch 19/25\n",
      "100/100 [==============================] - 0s 627us/step - loss: 0.4934 - val_loss: 0.4946\n",
      "Epoch 20/25\n",
      "100/100 [==============================] - 0s 626us/step - loss: 0.4920 - val_loss: 0.4932\n",
      "Epoch 21/25\n",
      "100/100 [==============================] - 0s 924us/step - loss: 0.4904 - val_loss: 0.4918\n",
      "Epoch 22/25\n",
      "100/100 [==============================] - 0s 629us/step - loss: 0.4888 - val_loss: 0.4902\n",
      "Epoch 23/25\n",
      "100/100 [==============================] - 0s 627us/step - loss: 0.4870 - val_loss: 0.4884\n",
      "Epoch 24/25\n",
      "100/100 [==============================] - 0s 626us/step - loss: 0.4851 - val_loss: 0.4865\n",
      "Epoch 25/25\n",
      "100/100 [==============================] - 0s 624us/step - loss: 0.4830 - val_loss: 0.4845\n",
      "Time taken in seconds  2.2074387073516846\n"
     ]
    },
    {
     "data": {
      "image/png": "[encoded data removed]",
      "text/plain": [
       "<Figure size 640x480 with 1 Axes>"
      ]
     },
     "metadata": {},
     "output_type": "display_data"
    }
   ],
   "source": [
    "optimizer = tf.keras.optimizers.SGD()    # defining SGD as the optimizer to be used\n",
    "model.compile(loss='binary_crossentropy', optimizer=optimizer)\n",
    "\n",
    "start = time.time()\n",
    "history = model.fit(X_train, y_train, validation_data=(X_valid,y_valid) , batch_size=batch_size, epochs=epochs)\n",
    "end=time.time()\n",
    "\n",
    "print(\"Time taken in seconds \",end-start)\n",
    "\n",
    "plot(history,'loss')\n",
    "\n"
   ]
  },
  {
   "cell_type": "code",
   "execution_count": 15,
   "metadata": {},
   "outputs": [
    {
     "name": "stdout",
     "output_type": "stream",
     "text": [
      "200/200 [==============================] - 0s 408us/step\n",
      "   Accuracy    Recall  Precision  F1 Score\n",
      "0  0.800781  0.800781    0.84065  0.716581\n",
      "50/50 [==============================] - 0s 370us/step\n",
      "   Accuracy    Recall  Precision  F1 Score\n",
      "0  0.800625  0.800625    0.84055   0.71622\n"
     ]
    }
   ],
   "source": [
    "# Performance check\n",
    "model1_train_performance = model_performance_classification(model,X_train,y_train)\n",
    "print(model1_train_performance)\n",
    "\n",
    "model1_valid_performance = model_performance_classification(model,X_valid,y_valid)\n",
    "print(model1_valid_performance)\n",
    "\n"
   ]
  },
  {
   "cell_type": "markdown",
   "metadata": {},
   "source": [
    "The difference between train recall and validation score is less than ~1% which is a consistent performance of the model between the training and validation dataset.\n",
    "A score of above 80% for both training and validation dataset is good but has the potential to perform better with some other model improvements."
   ]
  },
  {
   "cell_type": "markdown",
   "metadata": {},
   "source": [
    "Model Improvements:"
   ]
  },
  {
   "cell_type": "markdown",
   "metadata": {},
   "source": [
    "Keeping the SGD optimizer and adding momentum to check whether it is accelerating the process.\n",
    "\n",
    "Neural Network with SGD Optimizer + momentum"
   ]
  },
  {
   "cell_type": "code",
   "execution_count": 16,
   "metadata": {},
   "outputs": [],
   "source": [
    "# clears the current Keras session, resetting all layers and models previously created, freeing up memory and resources.\n",
    "tf.keras.backend.clear_session()"
   ]
  },
  {
   "cell_type": "code",
   "execution_count": 17,
   "metadata": {},
   "outputs": [
    {
     "name": "stdout",
     "output_type": "stream",
     "text": [
      "Model: \"sequential\"\n",
      "_________________________________________________________________\n",
      " Layer (type)                Output Shape              Param #   \n",
      "=================================================================\n",
      " dense (Dense)               (None, 14)                252       \n",
      "                                                                 \n",
      " dense_1 (Dense)             (None, 7)                 105       \n",
      "                                                                 \n",
      " dense_2 (Dense)             (None, 1)                 8         \n",
      "                                                                 \n",
      "=================================================================\n",
      "Total params: 365 (1.43 KB)\n",
      "Trainable params: 365 (1.43 KB)\n",
      "Non-trainable params: 0 (0.00 Byte)\n",
      "_________________________________________________________________\n"
     ]
    }
   ],
   "source": [
    "#Initializing the neural network\n",
    "model = Sequential()\n",
    "model.add(Dense(14,activation=\"relu\",input_dim=X_train.shape[1]))\n",
    "model.add(Dense(7,activation=\"relu\"))\n",
    "model.add(Dense(1,activation=\"sigmoid\"))\n",
    "\n",
    "model.summary()"
   ]
  },
  {
   "cell_type": "code",
   "execution_count": 18,
   "metadata": {},
   "outputs": [
    {
     "name": "stderr",
     "output_type": "stream",
     "text": [
      "WARNING:absl:At this time, the v2.11+ optimizer `tf.keras.optimizers.SGD` runs slowly on M1/M2 Macs, please use the legacy Keras optimizer instead, located at `tf.keras.optimizers.legacy.SGD`.\n"
     ]
    },
    {
     "name": "stdout",
     "output_type": "stream",
     "text": [
      "Epoch 1/25\n",
      "100/100 [==============================] - 0s 2ms/step - loss: 0.4928 - val_loss: 0.4560\n",
      "Epoch 2/25\n",
      "100/100 [==============================] - 0s 689us/step - loss: 0.4232 - val_loss: 0.4176\n",
      "Epoch 3/25\n",
      "100/100 [==============================] - 0s 682us/step - loss: 0.3934 - val_loss: 0.3946\n",
      "Epoch 4/25\n",
      "100/100 [==============================] - 0s 682us/step - loss: 0.3785 - val_loss: 0.3851\n",
      "Epoch 5/25\n",
      "100/100 [==============================] - 0s 672us/step - loss: 0.3698 - val_loss: 0.3808\n",
      "Epoch 6/25\n",
      "100/100 [==============================] - 0s 670us/step - loss: 0.3646 - val_loss: 0.3737\n",
      "Epoch 7/25\n",
      "100/100 [==============================] - 0s 670us/step - loss: 0.3608 - val_loss: 0.3769\n",
      "Epoch 8/25\n",
      "100/100 [==============================] - 0s 673us/step - loss: 0.3586 - val_loss: 0.3673\n",
      "Epoch 9/25\n",
      "100/100 [==============================] - 0s 669us/step - loss: 0.3555 - val_loss: 0.3773\n",
      "Epoch 10/25\n",
      "100/100 [==============================] - 0s 681us/step - loss: 0.3556 - val_loss: 0.3651\n",
      "Epoch 11/25\n",
      "100/100 [==============================] - 0s 668us/step - loss: 0.3548 - val_loss: 0.3677\n",
      "Epoch 12/25\n",
      "100/100 [==============================] - 0s 668us/step - loss: 0.3527 - val_loss: 0.3688\n",
      "Epoch 13/25\n",
      "100/100 [==============================] - 0s 670us/step - loss: 0.3514 - val_loss: 0.3625\n",
      "Epoch 14/25\n",
      "100/100 [==============================] - 0s 679us/step - loss: 0.3494 - val_loss: 0.3653\n",
      "Epoch 15/25\n",
      "100/100 [==============================] - 0s 670us/step - loss: 0.3494 - val_loss: 0.3621\n",
      "Epoch 16/25\n",
      "100/100 [==============================] - 0s 668us/step - loss: 0.3482 - val_loss: 0.3633\n",
      "Epoch 17/25\n",
      "100/100 [==============================] - 0s 653us/step - loss: 0.3483 - val_loss: 0.3622\n",
      "Epoch 18/25\n",
      "100/100 [==============================] - 0s 649us/step - loss: 0.3473 - val_loss: 0.3611\n",
      "Epoch 19/25\n",
      "100/100 [==============================] - 0s 653us/step - loss: 0.3472 - val_loss: 0.3655\n",
      "Epoch 20/25\n",
      "100/100 [==============================] - 0s 654us/step - loss: 0.3461 - val_loss: 0.3631\n",
      "Epoch 21/25\n",
      "100/100 [==============================] - 0s 667us/step - loss: 0.3476 - val_loss: 0.3591\n",
      "Epoch 22/25\n",
      "100/100 [==============================] - 0s 645us/step - loss: 0.3461 - val_loss: 0.3646\n",
      "Epoch 23/25\n",
      "100/100 [==============================] - 0s 656us/step - loss: 0.3456 - val_loss: 0.3616\n",
      "Epoch 24/25\n",
      "100/100 [==============================] - 0s 648us/step - loss: 0.3438 - val_loss: 0.3673\n",
      "Epoch 25/25\n",
      "100/100 [==============================] - 0s 647us/step - loss: 0.3437 - val_loss: 0.3598\n",
      "Time taken in seconds  2.019164800643921\n"
     ]
    },
    {
     "data": {
      "image/png": "[encoded data removed]",
      "text/plain": [
       "<Figure size 640x480 with 1 Axes>"
      ]
     },
     "metadata": {},
     "output_type": "display_data"
    }
   ],
   "source": [
    "optimizer = tf.keras.optimizers.SGD(momentum = 0.9)    # defining SGD as the optimizer to be used\n",
    "model.compile(loss='binary_crossentropy', optimizer=optimizer)\n",
    "\n",
    "start = time.time()\n",
    "history = model.fit(X_train, y_train, validation_data=(X_valid,y_valid) , batch_size=batch_size, epochs=epochs)\n",
    "end=time.time()\n",
    "\n",
    "print(\"Time taken in seconds \",end-start)\n",
    "\n",
    "plot(history,'loss')\n"
   ]
  },
  {
   "cell_type": "code",
   "execution_count": 19,
   "metadata": {},
   "outputs": [
    {
     "name": "stdout",
     "output_type": "stream",
     "text": [
      "200/200 [==============================] - 0s 429us/step\n",
      "   Accuracy    Recall  Precision  F1 Score\n",
      "0  0.800781  0.800781    0.84065  0.716581\n",
      "50/50 [==============================] - 0s 376us/step\n",
      "   Accuracy  Recall  Precision  F1 Score\n",
      "0    0.8525  0.8525    0.84096  0.839182\n"
     ]
    }
   ],
   "source": [
    "# Performance check\n",
    "model2_train_performance = model_performance_classification(model,X_train,y_train)\n",
    "print(model1_train_performance)\n",
    "\n",
    "model2_valid_performance = model_performance_classification(model,X_valid,y_valid)\n",
    "print(model2_valid_performance)\n",
    "\n"
   ]
  },
  {
   "cell_type": "markdown",
   "metadata": {},
   "source": [
    "\n",
    "The recall on the validation dataset (~84.6%) is better than that of the training datase(~82.3%), which is good as it dincates it has the potential to perfrom well on unseen data. \n",
    "A score of above 80% for both training and validation dataset is good but has the potential to perform better with some other model improvements."
   ]
  },
  {
   "cell_type": "markdown",
   "metadata": {},
   "source": [
    "Neural Network with SGD Optimizer + momentum + early stopping "
   ]
  },
  {
   "cell_type": "code",
   "execution_count": 21,
   "metadata": {},
   "outputs": [],
   "source": [
    "# clears the current Keras session, resetting all layers and models previously created, freeing up memory and resources.\n",
    "tf.keras.backend.clear_session()"
   ]
  },
  {
   "cell_type": "code",
   "execution_count": 22,
   "metadata": {},
   "outputs": [],
   "source": [
    "#adding earlystopping callback\n",
    "es= keras.callbacks.EarlyStopping(monitor='val_loss',min_delta=0,patience=15,verbose=0, mode='min', restore_best_weights= True)"
   ]
  },
  {
   "cell_type": "code",
   "execution_count": 23,
   "metadata": {},
   "outputs": [
    {
     "name": "stdout",
     "output_type": "stream",
     "text": [
      "Model: \"sequential\"\n",
      "_________________________________________________________________\n",
      " Layer (type)                Output Shape              Param #   \n",
      "=================================================================\n",
      " dense (Dense)               (None, 14)                252       \n",
      "                                                                 \n",
      " dense_1 (Dense)             (None, 7)                 105       \n",
      "                                                                 \n",
      " dense_2 (Dense)             (None, 1)                 8         \n",
      "                                                                 \n",
      "=================================================================\n",
      "Total params: 365 (1.43 KB)\n",
      "Trainable params: 365 (1.43 KB)\n",
      "Non-trainable params: 0 (0.00 Byte)\n",
      "_________________________________________________________________\n"
     ]
    }
   ],
   "source": [
    "#Initializing the neural network\n",
    "model = Sequential()\n",
    "model.add(Dense(14,activation=\"relu\",input_dim=X_train.shape[1]))\n",
    "model.add(Dense(7,activation=\"relu\"))\n",
    "model.add(Dense(1,activation=\"sigmoid\"))\n",
    "\n",
    "model.summary()"
   ]
  },
  {
   "cell_type": "code",
   "execution_count": 24,
   "metadata": {},
   "outputs": [
    {
     "name": "stderr",
     "output_type": "stream",
     "text": [
      "WARNING:absl:At this time, the v2.11+ optimizer `tf.keras.optimizers.SGD` runs slowly on M1/M2 Macs, please use the legacy Keras optimizer instead, located at `tf.keras.optimizers.legacy.SGD`.\n"
     ]
    },
    {
     "name": "stdout",
     "output_type": "stream",
     "text": [
      "Epoch 1/25\n",
      "100/100 [==============================] - 0s 2ms/step - loss: 0.5111 - val_loss: 0.4800\n",
      "Epoch 2/25\n",
      "100/100 [==============================] - 0s 696us/step - loss: 0.4501 - val_loss: 0.4464\n",
      "Epoch 3/25\n",
      "100/100 [==============================] - 0s 1ms/step - loss: 0.4127 - val_loss: 0.4133\n",
      "Epoch 4/25\n",
      "100/100 [==============================] - 0s 699us/step - loss: 0.3860 - val_loss: 0.3935\n",
      "Epoch 5/25\n",
      "100/100 [==============================] - 0s 670us/step - loss: 0.3709 - val_loss: 0.3865\n",
      "Epoch 6/25\n",
      "100/100 [==============================] - 0s 665us/step - loss: 0.3632 - val_loss: 0.3776\n",
      "Epoch 7/25\n",
      "100/100 [==============================] - 0s 678us/step - loss: 0.3575 - val_loss: 0.3784\n",
      "Epoch 8/25\n",
      "100/100 [==============================] - 0s 670us/step - loss: 0.3549 - val_loss: 0.3711\n",
      "Epoch 9/25\n",
      "100/100 [==============================] - 0s 667us/step - loss: 0.3510 - val_loss: 0.3801\n",
      "Epoch 10/25\n",
      "100/100 [==============================] - 0s 669us/step - loss: 0.3515 - val_loss: 0.3684\n",
      "Epoch 11/25\n",
      "100/100 [==============================] - 0s 674us/step - loss: 0.3499 - val_loss: 0.3695\n",
      "Epoch 12/25\n",
      "100/100 [==============================] - 0s 654us/step - loss: 0.3477 - val_loss: 0.3723\n",
      "Epoch 13/25\n",
      "100/100 [==============================] - 0s 674us/step - loss: 0.3463 - val_loss: 0.3676\n",
      "Epoch 14/25\n",
      "100/100 [==============================] - 0s 696us/step - loss: 0.3451 - val_loss: 0.3673\n",
      "Epoch 15/25\n",
      "100/100 [==============================] - 0s 686us/step - loss: 0.3446 - val_loss: 0.3638\n",
      "Epoch 16/25\n",
      "100/100 [==============================] - 0s 679us/step - loss: 0.3435 - val_loss: 0.3658\n",
      "Epoch 17/25\n",
      "100/100 [==============================] - 0s 722us/step - loss: 0.3439 - val_loss: 0.3633\n",
      "Epoch 18/25\n",
      "100/100 [==============================] - 0s 673us/step - loss: 0.3430 - val_loss: 0.3634\n",
      "Epoch 19/25\n",
      "100/100 [==============================] - 0s 658us/step - loss: 0.3428 - val_loss: 0.3676\n",
      "Epoch 20/25\n",
      "100/100 [==============================] - 0s 655us/step - loss: 0.3419 - val_loss: 0.3656\n",
      "Epoch 21/25\n",
      "100/100 [==============================] - 0s 657us/step - loss: 0.3431 - val_loss: 0.3616\n",
      "Epoch 22/25\n",
      "100/100 [==============================] - 0s 654us/step - loss: 0.3419 - val_loss: 0.3661\n",
      "Epoch 23/25\n",
      "100/100 [==============================] - 0s 657us/step - loss: 0.3415 - val_loss: 0.3636\n",
      "Epoch 24/25\n",
      "100/100 [==============================] - 0s 663us/step - loss: 0.3396 - val_loss: 0.3708\n",
      "Epoch 25/25\n",
      "100/100 [==============================] - 0s 660us/step - loss: 0.3403 - val_loss: 0.3630\n",
      "Time taken in seconds  2.092069149017334\n"
     ]
    },
    {
     "data": {
      "image/png": "[encoded data removed]",
      "text/plain": [
       "<Figure size 640x480 with 1 Axes>"
      ]
     },
     "metadata": {},
     "output_type": "display_data"
    }
   ],
   "source": [
    "optimizer = tf.keras.optimizers.SGD(momentum = 0.9)    # defining SGD as the optimizer to be used\n",
    "model.compile(loss='binary_crossentropy', optimizer=optimizer)\n",
    "\n",
    "start = time.time()\n",
    "history = model.fit(X_train, y_train, validation_data=(X_valid,y_valid) , batch_size=batch_size, epochs=epochs, callbacks=[es])\n",
    "end=time.time()\n",
    "\n",
    "print(\"Time taken in seconds \",end-start)\n",
    "\n",
    "plot(history,'loss')"
   ]
  },
  {
   "cell_type": "code",
   "execution_count": 25,
   "metadata": {},
   "outputs": [
    {
     "name": "stdout",
     "output_type": "stream",
     "text": [
      "200/200 [==============================] - 0s 601us/step\n",
      "   Accuracy    Recall  Precision  F1 Score\n",
      "0  0.858125  0.858125   0.847875  0.846532\n",
      "50/50 [==============================] - 0s 456us/step\n",
      "   Accuracy   Recall  Precision  F1 Score\n",
      "0   0.85375  0.85375   0.842612  0.839679\n"
     ]
    }
   ],
   "source": [
    "# Performance check\n",
    "model3_train_performance = model_performance_classification(model,X_train,y_train)\n",
    "print(model3_train_performance)\n",
    "\n",
    "model3_valid_performance = model_performance_classification(model,X_valid,y_valid)\n",
    "print(model3_valid_performance)\n"
   ]
  },
  {
   "cell_type": "markdown",
   "metadata": {},
   "source": [
    "\n",
    "Adding early stopping increased the recall for both training and validation set to ~85%. The fact that the difference between both sets is small indicates there is not a problem of overfitting. \n",
    "\n",
    "The next model to be constructed, will keep the SGD optimizer, momentum, and early stopping and introduce weight (he) initalization and observe whether there is an increase in performance of recall."
   ]
  },
  {
   "cell_type": "markdown",
   "metadata": {},
   "source": [
    "Neural Network with SGD Optimizer + momentum + early stopping + weight initalization"
   ]
  },
  {
   "cell_type": "code",
   "execution_count": 26,
   "metadata": {},
   "outputs": [],
   "source": [
    "# clears the current Keras session, resetting all layers and models previously created, freeing up memory and resources.\n",
    "tf.keras.backend.clear_session()"
   ]
  },
  {
   "cell_type": "code",
   "execution_count": 27,
   "metadata": {},
   "outputs": [
    {
     "name": "stdout",
     "output_type": "stream",
     "text": [
      "Model: \"sequential\"\n",
      "_________________________________________________________________\n",
      " Layer (type)                Output Shape              Param #   \n",
      "=================================================================\n",
      " dense (Dense)               (None, 14)                252       \n",
      "                                                                 \n",
      " dense_1 (Dense)             (None, 7)                 105       \n",
      "                                                                 \n",
      " dense_2 (Dense)             (None, 1)                 8         \n",
      "                                                                 \n",
      "=================================================================\n",
      "Total params: 365 (1.43 KB)\n",
      "Trainable params: 365 (1.43 KB)\n",
      "Non-trainable params: 0 (0.00 Byte)\n",
      "_________________________________________________________________\n"
     ]
    },
    {
     "name": "stderr",
     "output_type": "stream",
     "text": [
      "WARNING:absl:At this time, the v2.11+ optimizer `tf.keras.optimizers.SGD` runs slowly on M1/M2 Macs, please use the legacy Keras optimizer instead, located at `tf.keras.optimizers.legacy.SGD`.\n"
     ]
    },
    {
     "name": "stdout",
     "output_type": "stream",
     "text": [
      "Epoch 1/25\n",
      "100/100 [==============================] - 0s 2ms/step - loss: 0.5287 - val_loss: 0.4999\n",
      "Epoch 2/25\n",
      "100/100 [==============================] - 0s 694us/step - loss: 0.4752 - val_loss: 0.4754\n",
      "Epoch 3/25\n",
      "100/100 [==============================] - 0s 685us/step - loss: 0.4489 - val_loss: 0.4550\n",
      "Epoch 4/25\n",
      "100/100 [==============================] - 0s 676us/step - loss: 0.4271 - val_loss: 0.4346\n",
      "Epoch 5/25\n",
      "100/100 [==============================] - 0s 671us/step - loss: 0.4084 - val_loss: 0.4156\n",
      "Epoch 6/25\n",
      "100/100 [==============================] - 0s 671us/step - loss: 0.3917 - val_loss: 0.4021\n",
      "Epoch 7/25\n",
      "100/100 [==============================] - 0s 686us/step - loss: 0.3787 - val_loss: 0.3926\n",
      "Epoch 8/25\n",
      "100/100 [==============================] - 0s 677us/step - loss: 0.3698 - val_loss: 0.3861\n",
      "Epoch 9/25\n",
      "100/100 [==============================] - 0s 675us/step - loss: 0.3636 - val_loss: 0.3847\n",
      "Epoch 10/25\n",
      "100/100 [==============================] - 0s 679us/step - loss: 0.3599 - val_loss: 0.3786\n",
      "Epoch 11/25\n",
      "100/100 [==============================] - 0s 704us/step - loss: 0.3573 - val_loss: 0.3807\n",
      "Epoch 12/25\n",
      "100/100 [==============================] - 0s 721us/step - loss: 0.3546 - val_loss: 0.3812\n",
      "Epoch 13/25\n",
      "100/100 [==============================] - 0s 747us/step - loss: 0.3524 - val_loss: 0.3764\n",
      "Epoch 14/25\n",
      "100/100 [==============================] - 0s 699us/step - loss: 0.3507 - val_loss: 0.3757\n",
      "Epoch 15/25\n",
      "100/100 [==============================] - 0s 703us/step - loss: 0.3492 - val_loss: 0.3729\n",
      "Epoch 16/25\n",
      "100/100 [==============================] - 0s 687us/step - loss: 0.3482 - val_loss: 0.3728\n",
      "Epoch 17/25\n",
      "100/100 [==============================] - 0s 662us/step - loss: 0.3476 - val_loss: 0.3712\n",
      "Epoch 18/25\n",
      "100/100 [==============================] - 0s 651us/step - loss: 0.3458 - val_loss: 0.3700\n",
      "Epoch 19/25\n",
      "100/100 [==============================] - 0s 670us/step - loss: 0.3459 - val_loss: 0.3696\n",
      "Epoch 20/25\n",
      "100/100 [==============================] - 0s 655us/step - loss: 0.3445 - val_loss: 0.3706\n",
      "Epoch 21/25\n",
      "100/100 [==============================] - 0s 657us/step - loss: 0.3445 - val_loss: 0.3682\n",
      "Epoch 22/25\n",
      "100/100 [==============================] - 0s 663us/step - loss: 0.3433 - val_loss: 0.3698\n",
      "Epoch 23/25\n",
      "100/100 [==============================] - 0s 669us/step - loss: 0.3427 - val_loss: 0.3674\n",
      "Epoch 24/25\n",
      "100/100 [==============================] - 0s 661us/step - loss: 0.3418 - val_loss: 0.3719\n",
      "Epoch 25/25\n",
      "100/100 [==============================] - 0s 658us/step - loss: 0.3417 - val_loss: 0.3675\n",
      "Time taken in seconds  2.0728530883789062\n"
     ]
    },
    {
     "data": {
      "image/png": "[encoded data removed]",
      "text/plain": [
       "<Figure size 640x480 with 1 Axes>"
      ]
     },
     "metadata": {},
     "output_type": "display_data"
    }
   ],
   "source": [
    "#Initializing the neural network\n",
    "model = Sequential()\n",
    "model.add(Dense(14,activation=\"relu\",input_dim=X_train.shape[1],kernel_initializer ='he_normal'))\n",
    "model.add(Dense(7,activation=\"relu\"))\n",
    "model.add(Dense(1,activation=\"sigmoid\"))\n",
    "\n",
    "model.summary()\n",
    "\n",
    "\n",
    "optimizer = tf.keras.optimizers.SGD(momentum = 0.9)    # defining SGD as the optimizer to be used\n",
    "model.compile(loss='binary_crossentropy', optimizer=optimizer)\n",
    "\n",
    "start = time.time()\n",
    "history = model.fit(X_train, y_train, validation_data=(X_valid,y_valid) , batch_size=batch_size, epochs=epochs, callbacks=[es])\n",
    "end=time.time()\n",
    "\n",
    "print(\"Time taken in seconds \",end-start)\n",
    "\n",
    "plot(history,'loss')\n"
   ]
  },
  {
   "cell_type": "code",
   "execution_count": 28,
   "metadata": {},
   "outputs": [
    {
     "name": "stdout",
     "output_type": "stream",
     "text": [
      "200/200 [==============================] - 0s 389us/step\n",
      "   Accuracy    Recall  Precision  F1 Score\n",
      "0  0.859375  0.859375   0.849735  0.845915\n",
      "50/50 [==============================] - 0s 391us/step\n",
      "   Accuracy   Recall  Precision  F1 Score\n",
      "0   0.85375  0.85375   0.842541  0.840259\n"
     ]
    }
   ],
   "source": [
    "# Performance check\n",
    "model4_train_performance = model_performance_classification(model,X_train,y_train)\n",
    "print(model4_train_performance)\n",
    "\n",
    "model4_valid_performance = model_performance_classification(model,X_valid,y_valid)\n",
    "print(model4_valid_performance)\n"
   ]
  },
  {
   "cell_type": "markdown",
   "metadata": {},
   "source": [
    "\n",
    "Introducing weight initalization to the existing model, increased recalls slightly with no significant improvement\n",
    "\n",
    "The next model to be built, will have the optimizer changed to Adam + early stopping, to examine if this improves my recall on both training and validation sets."
   ]
  },
  {
   "cell_type": "markdown",
   "metadata": {},
   "source": [
    "Neural Network with Adam Optimizer + early stopping "
   ]
  },
  {
   "cell_type": "code",
   "execution_count": 29,
   "metadata": {},
   "outputs": [],
   "source": [
    "# clears the current Keras session, resetting all layers and models previously created, freeing up memory and resources.\n",
    "tf.keras.backend.clear_session()"
   ]
  },
  {
   "cell_type": "code",
   "execution_count": 30,
   "metadata": {},
   "outputs": [
    {
     "name": "stdout",
     "output_type": "stream",
     "text": [
      "Model: \"sequential\"\n",
      "_________________________________________________________________\n",
      " Layer (type)                Output Shape              Param #   \n",
      "=================================================================\n",
      " dense (Dense)               (None, 14)                252       \n",
      "                                                                 \n",
      " dense_1 (Dense)             (None, 7)                 105       \n",
      "                                                                 \n",
      " dense_2 (Dense)             (None, 1)                 8         \n",
      "                                                                 \n",
      "=================================================================\n",
      "Total params: 365 (1.43 KB)\n",
      "Trainable params: 365 (1.43 KB)\n",
      "Non-trainable params: 0 (0.00 Byte)\n",
      "_________________________________________________________________\n"
     ]
    },
    {
     "name": "stderr",
     "output_type": "stream",
     "text": [
      "WARNING:absl:At this time, the v2.11+ optimizer `tf.keras.optimizers.Adam` runs slowly on M1/M2 Macs, please use the legacy Keras optimizer instead, located at `tf.keras.optimizers.legacy.Adam`.\n"
     ]
    },
    {
     "name": "stdout",
     "output_type": "stream",
     "text": [
      "Epoch 1/25\n",
      "100/100 [==============================] - 0s 2ms/step - loss: 0.5505 - val_loss: 0.4846\n",
      "Epoch 2/25\n",
      "100/100 [==============================] - 0s 698us/step - loss: 0.4646 - val_loss: 0.4667\n",
      "Epoch 3/25\n",
      "100/100 [==============================] - 0s 701us/step - loss: 0.4449 - val_loss: 0.4505\n",
      "Epoch 4/25\n",
      "100/100 [==============================] - 0s 701us/step - loss: 0.4282 - val_loss: 0.4354\n",
      "Epoch 5/25\n",
      "100/100 [==============================] - 0s 698us/step - loss: 0.4142 - val_loss: 0.4226\n",
      "Epoch 6/25\n",
      "100/100 [==============================] - 0s 704us/step - loss: 0.4040 - val_loss: 0.4146\n",
      "Epoch 7/25\n",
      "100/100 [==============================] - 0s 688us/step - loss: 0.3960 - val_loss: 0.4061\n",
      "Epoch 8/25\n",
      "100/100 [==============================] - 0s 700us/step - loss: 0.3887 - val_loss: 0.4004\n",
      "Epoch 9/25\n",
      "100/100 [==============================] - 0s 694us/step - loss: 0.3829 - val_loss: 0.3953\n",
      "Epoch 10/25\n",
      "100/100 [==============================] - 0s 695us/step - loss: 0.3776 - val_loss: 0.3901\n",
      "Epoch 11/25\n",
      "100/100 [==============================] - 0s 690us/step - loss: 0.3733 - val_loss: 0.3870\n",
      "Epoch 12/25\n",
      "100/100 [==============================] - 0s 748us/step - loss: 0.3696 - val_loss: 0.3858\n",
      "Epoch 13/25\n",
      "100/100 [==============================] - 0s 1ms/step - loss: 0.3658 - val_loss: 0.3825\n",
      "Epoch 14/25\n",
      "100/100 [==============================] - 0s 702us/step - loss: 0.3627 - val_loss: 0.3779\n",
      "Epoch 15/25\n",
      "100/100 [==============================] - 0s 693us/step - loss: 0.3599 - val_loss: 0.3755\n",
      "Epoch 16/25\n",
      "100/100 [==============================] - 0s 697us/step - loss: 0.3573 - val_loss: 0.3735\n",
      "Epoch 17/25\n",
      "100/100 [==============================] - 0s 689us/step - loss: 0.3557 - val_loss: 0.3711\n",
      "Epoch 18/25\n",
      "100/100 [==============================] - 0s 699us/step - loss: 0.3537 - val_loss: 0.3701\n",
      "Epoch 19/25\n",
      "100/100 [==============================] - 0s 714us/step - loss: 0.3522 - val_loss: 0.3687\n",
      "Epoch 20/25\n",
      "100/100 [==============================] - 0s 700us/step - loss: 0.3511 - val_loss: 0.3679\n",
      "Epoch 21/25\n",
      "100/100 [==============================] - 0s 892us/step - loss: 0.3505 - val_loss: 0.3664\n",
      "Epoch 22/25\n",
      "100/100 [==============================] - 0s 779us/step - loss: 0.3491 - val_loss: 0.3662\n",
      "Epoch 23/25\n",
      "100/100 [==============================] - 0s 685us/step - loss: 0.3484 - val_loss: 0.3660\n",
      "Epoch 24/25\n",
      "100/100 [==============================] - 0s 679us/step - loss: 0.3476 - val_loss: 0.3662\n",
      "Epoch 25/25\n",
      "100/100 [==============================] - 0s 682us/step - loss: 0.3465 - val_loss: 0.3646\n",
      "Time taken in seconds  2.3552908897399902\n"
     ]
    },
    {
     "data": {
      "image/png": "[encoded data removed]",
      "text/plain": [
       "<Figure size 640x480 with 1 Axes>"
      ]
     },
     "metadata": {},
     "output_type": "display_data"
    }
   ],
   "source": [
    "#Initializing the neural network\n",
    "model = Sequential()\n",
    "model.add(Dense(14,activation=\"relu\",input_dim=X_train.shape[1]))\n",
    "model.add(Dense(7,activation=\"relu\"))\n",
    "model.add(Dense(1,activation=\"sigmoid\"))\n",
    "\n",
    "model.summary()\n",
    "\n",
    "\n",
    "optimizer = tf.keras.optimizers.Adam()    \n",
    "model.compile(loss='binary_crossentropy', optimizer=optimizer)\n",
    "\n",
    "start = time.time()\n",
    "history = model.fit(X_train, y_train, validation_data=(X_valid,y_valid) , batch_size=batch_size, epochs=epochs, callbacks=[es])\n",
    "end=time.time()\n",
    "\n",
    "print(\"Time taken in seconds \",end-start)\n",
    "\n",
    "plot(history,'loss')"
   ]
  },
  {
   "cell_type": "code",
   "execution_count": 31,
   "metadata": {},
   "outputs": [
    {
     "name": "stdout",
     "output_type": "stream",
     "text": [
      "200/200 [==============================] - 0s 411us/step\n",
      "   Accuracy    Recall  Precision  F1 Score\n",
      "0  0.855625  0.855625   0.844824  0.843692\n",
      "50/50 [==============================] - 0s 384us/step\n",
      "   Accuracy    Recall  Precision  F1 Score\n",
      "0  0.850625  0.850625   0.838787  0.835191\n"
     ]
    }
   ],
   "source": [
    "# Performance check\n",
    "model5_train_performance = model_performance_classification(model,X_train,y_train)\n",
    "print(model5_train_performance)\n",
    "\n",
    "model5_valid_performance = model_performance_classification(model,X_valid,y_valid)\n",
    "print(model5_valid_performance)\n"
   ]
  },
  {
   "cell_type": "markdown",
   "metadata": {},
   "source": [
    "There is a slight drop in recall for both training and validation sets, the adam optimizer is proving to be better. \n",
    "The next model will keep the adam initializer, early stopping and set learning rate to 0.001 and investigate whether performance is impacted. "
   ]
  },
  {
   "cell_type": "markdown",
   "metadata": {},
   "source": [
    "Neural Network with Adam Optimizer + early stopping + learning rate of 0.001\n"
   ]
  },
  {
   "cell_type": "code",
   "execution_count": 32,
   "metadata": {},
   "outputs": [],
   "source": [
    "# clears the current Keras session, resetting all layers and models previously created, freeing up memory and resources.\n",
    "tf.keras.backend.clear_session()"
   ]
  },
  {
   "cell_type": "code",
   "execution_count": 33,
   "metadata": {},
   "outputs": [
    {
     "name": "stdout",
     "output_type": "stream",
     "text": [
      "Model: \"sequential\"\n",
      "_________________________________________________________________\n",
      " Layer (type)                Output Shape              Param #   \n",
      "=================================================================\n",
      " dense (Dense)               (None, 14)                252       \n",
      "                                                                 \n",
      " dense_1 (Dense)             (None, 7)                 105       \n",
      "                                                                 \n",
      " dense_2 (Dense)             (None, 1)                 8         \n",
      "                                                                 \n",
      "=================================================================\n",
      "Total params: 365 (1.43 KB)\n",
      "Trainable params: 365 (1.43 KB)\n",
      "Non-trainable params: 0 (0.00 Byte)\n",
      "_________________________________________________________________\n"
     ]
    },
    {
     "name": "stderr",
     "output_type": "stream",
     "text": [
      "WARNING:absl:At this time, the v2.11+ optimizer `tf.keras.optimizers.Adam` runs slowly on M1/M2 Macs, please use the legacy Keras optimizer instead, located at `tf.keras.optimizers.legacy.Adam`.\n",
      "WARNING:absl:`lr` is deprecated in Keras optimizer, please use `learning_rate` or use the legacy optimizer, e.g.,tf.keras.optimizers.legacy.Adam.\n"
     ]
    },
    {
     "name": "stdout",
     "output_type": "stream",
     "text": [
      "Epoch 1/25\n",
      "100/100 [==============================] - 1s 2ms/step - loss: 0.7340 - val_loss: 0.6645\n",
      "Epoch 2/25\n",
      "100/100 [==============================] - 0s 748us/step - loss: 0.6084 - val_loss: 0.5455\n",
      "Epoch 3/25\n",
      "100/100 [==============================] - 0s 747us/step - loss: 0.5028 - val_loss: 0.4794\n",
      "Epoch 4/25\n",
      "100/100 [==============================] - 0s 722us/step - loss: 0.4624 - val_loss: 0.4605\n",
      "Epoch 5/25\n",
      "100/100 [==============================] - 0s 701us/step - loss: 0.4406 - val_loss: 0.4430\n",
      "Epoch 6/25\n",
      "100/100 [==============================] - 0s 702us/step - loss: 0.4161 - val_loss: 0.4195\n",
      "Epoch 7/25\n",
      "100/100 [==============================] - 0s 700us/step - loss: 0.3908 - val_loss: 0.3993\n",
      "Epoch 8/25\n",
      "100/100 [==============================] - 0s 701us/step - loss: 0.3731 - val_loss: 0.3876\n",
      "Epoch 9/25\n",
      "100/100 [==============================] - 0s 698us/step - loss: 0.3641 - val_loss: 0.3831\n",
      "Epoch 10/25\n",
      "100/100 [==============================] - 0s 772us/step - loss: 0.3595 - val_loss: 0.3776\n",
      "Epoch 11/25\n",
      "100/100 [==============================] - 0s 796us/step - loss: 0.3567 - val_loss: 0.3769\n",
      "Epoch 12/25\n",
      "100/100 [==============================] - 0s 747us/step - loss: 0.3541 - val_loss: 0.3769\n",
      "Epoch 13/25\n",
      "100/100 [==============================] - 0s 769us/step - loss: 0.3525 - val_loss: 0.3732\n",
      "Epoch 14/25\n",
      "100/100 [==============================] - 0s 724us/step - loss: 0.3509 - val_loss: 0.3706\n",
      "Epoch 15/25\n",
      "100/100 [==============================] - 0s 702us/step - loss: 0.3497 - val_loss: 0.3682\n",
      "Epoch 16/25\n",
      "100/100 [==============================] - 0s 693us/step - loss: 0.3487 - val_loss: 0.3693\n",
      "Epoch 17/25\n",
      "100/100 [==============================] - 0s 706us/step - loss: 0.3480 - val_loss: 0.3671\n",
      "Epoch 18/25\n",
      "100/100 [==============================] - 0s 725us/step - loss: 0.3469 - val_loss: 0.3653\n",
      "Epoch 19/25\n",
      "100/100 [==============================] - 0s 733us/step - loss: 0.3460 - val_loss: 0.3654\n",
      "Epoch 20/25\n",
      "100/100 [==============================] - 0s 725us/step - loss: 0.3448 - val_loss: 0.3661\n",
      "Epoch 21/25\n",
      "100/100 [==============================] - 0s 909us/step - loss: 0.3447 - val_loss: 0.3632\n",
      "Epoch 22/25\n",
      "100/100 [==============================] - 0s 1ms/step - loss: 0.3435 - val_loss: 0.3656\n",
      "Epoch 23/25\n",
      "100/100 [==============================] - 0s 836us/step - loss: 0.3427 - val_loss: 0.3614\n",
      "Epoch 24/25\n",
      "100/100 [==============================] - 0s 761us/step - loss: 0.3418 - val_loss: 0.3647\n",
      "Epoch 25/25\n",
      "100/100 [==============================] - 0s 905us/step - loss: 0.3413 - val_loss: 0.3627\n",
      "Time taken in seconds  3.5116491317749023\n"
     ]
    },
    {
     "data": {
      "image/png": "[encoded data removed]",
      "text/plain": [
       "<Figure size 640x480 with 1 Axes>"
      ]
     },
     "metadata": {},
     "output_type": "display_data"
    }
   ],
   "source": [
    "#Initializing the neural network\n",
    "model = Sequential()\n",
    "model.add(Dense(14,activation=\"relu\",input_dim=X_train.shape[1]))\n",
    "model.add(Dense(7,activation=\"relu\"))\n",
    "model.add(Dense(1,activation=\"sigmoid\"))\n",
    "\n",
    "model.summary()\n",
    "\n",
    "\n",
    "optimizer = tf.keras.optimizers.Adam(lr=0.001)    \n",
    "model.compile(loss='binary_crossentropy', optimizer=optimizer)\n",
    "\n",
    "start = time.time()\n",
    "history = model.fit(X_train, y_train, validation_data=(X_valid,y_valid) , batch_size=batch_size, epochs=epochs, callbacks=[es])\n",
    "end=time.time()\n",
    "\n",
    "print(\"Time taken in seconds \",end-start)\n",
    "\n",
    "plot(history,'loss')"
   ]
  },
  {
   "cell_type": "code",
   "execution_count": 34,
   "metadata": {},
   "outputs": [
    {
     "name": "stdout",
     "output_type": "stream",
     "text": [
      "200/200 [==============================] - 0s 1ms/step\n",
      "   Accuracy    Recall  Precision  F1 Score\n",
      "0  0.860938  0.860938   0.851669  0.847766\n",
      "50/50 [==============================] - 0s 448us/step\n",
      "   Accuracy    Recall  Precision  F1 Score\n",
      "0  0.855625  0.855625   0.845498  0.840105\n"
     ]
    }
   ],
   "source": [
    "# Performance check\n",
    "model6_train_performance = model_performance_classification(model,X_train,y_train)\n",
    "print(model6_train_performance)\n",
    "\n",
    "model6_valid_performance = model_performance_classification(model,X_valid,y_valid)\n",
    "print(model6_valid_performance)\n"
   ]
  },
  {
   "cell_type": "markdown",
   "metadata": {},
   "source": [
    "The performance of both datasets have improved slightly. \n",
    "The next model to be built will introduce a fropout rate of 40% in the first hidden layer and 20% in the second hidden layer. "
   ]
  },
  {
   "cell_type": "markdown",
   "metadata": {},
   "source": [
    "Neural Network with Adam Optimizer + early stopping + learning rate + drop out\n"
   ]
  },
  {
   "cell_type": "code",
   "execution_count": 35,
   "metadata": {},
   "outputs": [],
   "source": [
    "# clears the current Keras session, resetting all layers and models previously created, freeing up memory and resources.\n",
    "tf.keras.backend.clear_session()"
   ]
  },
  {
   "cell_type": "code",
   "execution_count": 36,
   "metadata": {},
   "outputs": [
    {
     "name": "stdout",
     "output_type": "stream",
     "text": [
      "Model: \"sequential\"\n",
      "_________________________________________________________________\n",
      " Layer (type)                Output Shape              Param #   \n",
      "=================================================================\n",
      " dense (Dense)               (None, 14)                252       \n",
      "                                                                 \n",
      " dropout (Dropout)           (None, 14)                0         \n",
      "                                                                 \n",
      " dense_1 (Dense)             (None, 7)                 105       \n",
      "                                                                 \n",
      " dropout_1 (Dropout)         (None, 7)                 0         \n",
      "                                                                 \n",
      " dense_2 (Dense)             (None, 1)                 8         \n",
      "                                                                 \n",
      "=================================================================\n",
      "Total params: 365 (1.43 KB)\n",
      "Trainable params: 365 (1.43 KB)\n",
      "Non-trainable params: 0 (0.00 Byte)\n",
      "_________________________________________________________________\n"
     ]
    },
    {
     "name": "stderr",
     "output_type": "stream",
     "text": [
      "WARNING:absl:At this time, the v2.11+ optimizer `tf.keras.optimizers.Adam` runs slowly on M1/M2 Macs, please use the legacy Keras optimizer instead, located at `tf.keras.optimizers.legacy.Adam`.\n",
      "WARNING:absl:`lr` is deprecated in Keras optimizer, please use `learning_rate` or use the legacy optimizer, e.g.,tf.keras.optimizers.legacy.Adam.\n"
     ]
    },
    {
     "name": "stdout",
     "output_type": "stream",
     "text": [
      "Epoch 1/25\n",
      "100/100 [==============================] - 1s 2ms/step - loss: 0.6798 - val_loss: 0.5252\n",
      "Epoch 2/25\n",
      "100/100 [==============================] - 0s 781us/step - loss: 0.5567 - val_loss: 0.4859\n",
      "Epoch 3/25\n",
      "100/100 [==============================] - 0s 787us/step - loss: 0.5310 - val_loss: 0.4753\n",
      "Epoch 4/25\n",
      "100/100 [==============================] - 0s 774us/step - loss: 0.5157 - val_loss: 0.4675\n",
      "Epoch 5/25\n",
      "100/100 [==============================] - 0s 716us/step - loss: 0.5056 - val_loss: 0.4585\n",
      "Epoch 6/25\n",
      "100/100 [==============================] - 0s 715us/step - loss: 0.4926 - val_loss: 0.4503\n",
      "Epoch 7/25\n",
      "100/100 [==============================] - 0s 727us/step - loss: 0.4853 - val_loss: 0.4427\n",
      "Epoch 8/25\n",
      "100/100 [==============================] - 0s 754us/step - loss: 0.4744 - val_loss: 0.4354\n",
      "Epoch 9/25\n",
      "100/100 [==============================] - 0s 739us/step - loss: 0.4624 - val_loss: 0.4288\n",
      "Epoch 10/25\n",
      "100/100 [==============================] - 0s 744us/step - loss: 0.4540 - val_loss: 0.4191\n",
      "Epoch 11/25\n",
      "100/100 [==============================] - 0s 728us/step - loss: 0.4507 - val_loss: 0.4121\n",
      "Epoch 12/25\n",
      "100/100 [==============================] - 0s 723us/step - loss: 0.4408 - val_loss: 0.4055\n",
      "Epoch 13/25\n",
      "100/100 [==============================] - 0s 714us/step - loss: 0.4391 - val_loss: 0.4029\n",
      "Epoch 14/25\n",
      "100/100 [==============================] - 0s 746us/step - loss: 0.4307 - val_loss: 0.3985\n",
      "Epoch 15/25\n",
      "100/100 [==============================] - 0s 813us/step - loss: 0.4272 - val_loss: 0.3953\n",
      "Epoch 16/25\n",
      "100/100 [==============================] - 0s 1ms/step - loss: 0.4235 - val_loss: 0.3926\n",
      "Epoch 17/25\n",
      "100/100 [==============================] - 0s 853us/step - loss: 0.4219 - val_loss: 0.3917\n",
      "Epoch 18/25\n",
      "100/100 [==============================] - 0s 734us/step - loss: 0.4160 - val_loss: 0.3878\n",
      "Epoch 19/25\n",
      "100/100 [==============================] - 0s 734us/step - loss: 0.4155 - val_loss: 0.3890\n",
      "Epoch 20/25\n",
      "100/100 [==============================] - 0s 776us/step - loss: 0.4158 - val_loss: 0.3872\n",
      "Epoch 21/25\n",
      "100/100 [==============================] - 0s 780us/step - loss: 0.4138 - val_loss: 0.3876\n",
      "Epoch 22/25\n",
      "100/100 [==============================] - 0s 759us/step - loss: 0.4035 - val_loss: 0.3845\n",
      "Epoch 23/25\n",
      "100/100 [==============================] - 0s 750us/step - loss: 0.4077 - val_loss: 0.3834\n",
      "Epoch 24/25\n",
      "100/100 [==============================] - 0s 736us/step - loss: 0.4087 - val_loss: 0.3849\n",
      "Epoch 25/25\n",
      "100/100 [==============================] - 0s 705us/step - loss: 0.3965 - val_loss: 0.3819\n",
      "Time taken in seconds  2.4669837951660156\n"
     ]
    },
    {
     "data": {
      "image/png": "[encoded data removed]",
      "text/plain": [
       "<Figure size 640x480 with 1 Axes>"
      ]
     },
     "metadata": {},
     "output_type": "display_data"
    }
   ],
   "source": [
    "#Initializing the neural network\n",
    "model = Sequential()\n",
    "model.add(Dense(14,activation=\"relu\",input_dim=X_train.shape[1]))\n",
    "model.add(Dropout(0.4))\n",
    "model.add(Dense(7,activation=\"relu\"))\n",
    "model.add(Dropout(0.2))\n",
    "model.add(Dense(1,activation=\"sigmoid\"))\n",
    "\n",
    "model.summary()\n",
    "\n",
    "\n",
    "optimizer = tf.keras.optimizers.Adam(lr=0.001)    \n",
    "model.compile(loss='binary_crossentropy', optimizer=optimizer)\n",
    "\n",
    "start = time.time()\n",
    "history = model.fit(X_train, y_train, validation_data=(X_valid,y_valid) , batch_size=batch_size, epochs=epochs, callbacks=[es])\n",
    "end=time.time()\n",
    "\n",
    "print(\"Time taken in seconds \",end-start)\n",
    "\n",
    "plot(history,'loss')"
   ]
  },
  {
   "cell_type": "code",
   "execution_count": 38,
   "metadata": {},
   "outputs": [
    {
     "name": "stdout",
     "output_type": "stream",
     "text": [
      "200/200 [==============================] - 0s 385us/step\n",
      "   Accuracy    Recall  Precision  F1 Score\n",
      "0  0.846875  0.846875   0.842314  0.819328\n",
      "50/50 [==============================] - 0s 383us/step\n",
      "   Accuracy   Recall  Precision  F1 Score\n",
      "0   0.83625  0.83625   0.830412  0.801577\n"
     ]
    }
   ],
   "source": [
    "# Performance check\n",
    "model7_train_performance = model_performance_classification(model,X_train,y_train)\n",
    "print(model7_train_performance)\n",
    "\n",
    "model7_valid_performance = model_performance_classification(model,X_valid,y_valid)\n",
    "print(model7_valid_performance)\n"
   ]
  },
  {
   "cell_type": "markdown",
   "metadata": {},
   "source": [
    "The performance on both the training and validation data set have decreased when drop out was implemented. \n",
    "The final model to be built will eliminate the dropout regularization technique and introduce batch normalization."
   ]
  },
  {
   "cell_type": "markdown",
   "metadata": {},
   "source": [
    "Neural Network with Adam Optimizer + early stopping + learning rate + batch normalization"
   ]
  },
  {
   "cell_type": "code",
   "execution_count": 39,
   "metadata": {},
   "outputs": [],
   "source": [
    "# clears the current Keras session, resetting all layers and models previously created, freeing up memory and resources.\n",
    "tf.keras.backend.clear_session()"
   ]
  },
  {
   "cell_type": "code",
   "execution_count": 40,
   "metadata": {},
   "outputs": [
    {
     "name": "stdout",
     "output_type": "stream",
     "text": [
      "Model: \"sequential\"\n",
      "_________________________________________________________________\n",
      " Layer (type)                Output Shape              Param #   \n",
      "=================================================================\n",
      " dense (Dense)               (None, 14)                252       \n",
      "                                                                 \n",
      " batch_normalization (Batch  (None, 14)                56        \n",
      " Normalization)                                                  \n",
      "                                                                 \n",
      " dense_1 (Dense)             (None, 7)                 105       \n",
      "                                                                 \n",
      " batch_normalization_1 (Bat  (None, 7)                 28        \n",
      " chNormalization)                                                \n",
      "                                                                 \n",
      " dense_2 (Dense)             (None, 1)                 8         \n",
      "                                                                 \n",
      "=================================================================\n",
      "Total params: 449 (1.75 KB)\n",
      "Trainable params: 407 (1.59 KB)\n",
      "Non-trainable params: 42 (168.00 Byte)\n",
      "_________________________________________________________________\n"
     ]
    },
    {
     "name": "stderr",
     "output_type": "stream",
     "text": [
      "WARNING:absl:At this time, the v2.11+ optimizer `tf.keras.optimizers.Adam` runs slowly on M1/M2 Macs, please use the legacy Keras optimizer instead, located at `tf.keras.optimizers.legacy.Adam`.\n",
      "WARNING:absl:`lr` is deprecated in Keras optimizer, please use `learning_rate` or use the legacy optimizer, e.g.,tf.keras.optimizers.legacy.Adam.\n"
     ]
    },
    {
     "name": "stdout",
     "output_type": "stream",
     "text": [
      "Epoch 1/25\n",
      "100/100 [==============================] - 1s 2ms/step - loss: 0.7071 - val_loss: 0.5549\n",
      "Epoch 2/25\n",
      "100/100 [==============================] - 0s 914us/step - loss: 0.5454 - val_loss: 0.4968\n",
      "Epoch 3/25\n",
      "100/100 [==============================] - 0s 1ms/step - loss: 0.4725 - val_loss: 0.4609\n",
      "Epoch 4/25\n",
      "100/100 [==============================] - 0s 1ms/step - loss: 0.4363 - val_loss: 0.4393\n",
      "Epoch 5/25\n",
      "100/100 [==============================] - 0s 908us/step - loss: 0.4082 - val_loss: 0.4220\n",
      "Epoch 6/25\n",
      "100/100 [==============================] - 0s 976us/step - loss: 0.3915 - val_loss: 0.4088\n",
      "Epoch 7/25\n",
      "100/100 [==============================] - 0s 1ms/step - loss: 0.3814 - val_loss: 0.3987\n",
      "Epoch 8/25\n",
      "100/100 [==============================] - 0s 946us/step - loss: 0.3773 - val_loss: 0.3930\n",
      "Epoch 9/25\n",
      "100/100 [==============================] - 0s 883us/step - loss: 0.3714 - val_loss: 0.3882\n",
      "Epoch 10/25\n",
      "100/100 [==============================] - 0s 986us/step - loss: 0.3624 - val_loss: 0.3851\n",
      "Epoch 11/25\n",
      "100/100 [==============================] - 0s 1ms/step - loss: 0.3646 - val_loss: 0.3824\n",
      "Epoch 12/25\n",
      "100/100 [==============================] - 0s 1ms/step - loss: 0.3590 - val_loss: 0.3805\n",
      "Epoch 13/25\n",
      "100/100 [==============================] - 0s 879us/step - loss: 0.3578 - val_loss: 0.3771\n",
      "Epoch 14/25\n",
      "100/100 [==============================] - 0s 831us/step - loss: 0.3550 - val_loss: 0.3760\n",
      "Epoch 15/25\n",
      "100/100 [==============================] - 0s 2ms/step - loss: 0.3529 - val_loss: 0.3746\n",
      "Epoch 16/25\n",
      "100/100 [==============================] - 0s 814us/step - loss: 0.3523 - val_loss: 0.3732\n",
      "Epoch 17/25\n",
      "100/100 [==============================] - 0s 813us/step - loss: 0.3559 - val_loss: 0.3721\n",
      "Epoch 18/25\n",
      "100/100 [==============================] - 0s 803us/step - loss: 0.3498 - val_loss: 0.3713\n",
      "Epoch 19/25\n",
      "100/100 [==============================] - 0s 817us/step - loss: 0.3514 - val_loss: 0.3709\n",
      "Epoch 20/25\n",
      "100/100 [==============================] - 0s 804us/step - loss: 0.3521 - val_loss: 0.3708\n",
      "Epoch 21/25\n",
      "100/100 [==============================] - 0s 853us/step - loss: 0.3472 - val_loss: 0.3685\n",
      "Epoch 22/25\n",
      "100/100 [==============================] - 0s 994us/step - loss: 0.3494 - val_loss: 0.3680\n",
      "Epoch 23/25\n",
      "100/100 [==============================] - 0s 1ms/step - loss: 0.3435 - val_loss: 0.3676\n",
      "Epoch 24/25\n",
      "100/100 [==============================] - 0s 901us/step - loss: 0.3491 - val_loss: 0.3679\n",
      "Epoch 25/25\n",
      "100/100 [==============================] - 0s 939us/step - loss: 0.3438 - val_loss: 0.3663\n",
      "Time taken in seconds  3.203758716583252\n"
     ]
    },
    {
     "data": {
      "image/png": "[encoded data removed]",
      "text/plain": [
       "<Figure size 640x480 with 1 Axes>"
      ]
     },
     "metadata": {},
     "output_type": "display_data"
    }
   ],
   "source": [
    "#Initializing the neural network\n",
    "model = Sequential()\n",
    "model.add(Dense(14,activation=\"relu\",input_dim=X_train.shape[1]))\n",
    "model.add(BatchNormalization())\n",
    "model.add(Dense(7,activation=\"relu\"))\n",
    "model.add(BatchNormalization())\n",
    "model.add(Dense(1,activation=\"sigmoid\"))\n",
    "\n",
    "model.summary()\n",
    "\n",
    "\n",
    "optimizer = tf.keras.optimizers.Adam(lr=0.001)    \n",
    "model.compile(loss='binary_crossentropy', optimizer=optimizer)\n",
    "\n",
    "start = time.time()\n",
    "history = model.fit(X_train, y_train, validation_data=(X_valid,y_valid) , batch_size=batch_size, epochs=epochs, callbacks=[es])\n",
    "end=time.time()\n",
    "\n",
    "print(\"Time taken in seconds \",end-start)\n",
    "\n",
    "plot(history,'loss')"
   ]
  },
  {
   "cell_type": "code",
   "execution_count": 41,
   "metadata": {},
   "outputs": [
    {
     "name": "stdout",
     "output_type": "stream",
     "text": [
      "200/200 [==============================] - 0s 453us/step\n",
      "   Accuracy    Recall  Precision  F1 Score\n",
      "0  0.863281  0.863281   0.854143  0.852205\n",
      "50/50 [==============================] - 0s 423us/step\n",
      "   Accuracy    Recall  Precision  F1 Score\n",
      "0  0.848125  0.848125   0.835509  0.832745\n"
     ]
    }
   ],
   "source": [
    "# Performance check\n",
    "model8_train_performance = model_performance_classification(model,X_train,y_train)\n",
    "print(model8_train_performance)\n",
    "\n",
    "model8_valid_performance = model_performance_classification(model,X_valid,y_valid)\n",
    "print(model8_valid_performance)\n"
   ]
  },
  {
   "cell_type": "markdown",
   "metadata": {},
   "source": [
    "The final model sees an improvement, in comparison with the previous model. "
   ]
  },
  {
   "cell_type": "markdown",
   "metadata": {},
   "source": [
    "Model comparison and selection"
   ]
  },
  {
   "cell_type": "code",
   "execution_count": 43,
   "metadata": {},
   "outputs": [
    {
     "name": "stdout",
     "output_type": "stream",
     "text": [
      "           Neural Network (SGD, No Regularization)  \\\n",
      "Accuracy                                  0.800781   \n",
      "Recall                                    0.800781   \n",
      "Precision                                 0.840650   \n",
      "F1 Score                                  0.716581   \n",
      "\n",
      "           Neural Network (SGD, Momentum)  \\\n",
      "Accuracy                         0.858437   \n",
      "Recall                           0.858437   \n",
      "Precision                        0.848256   \n",
      "F1 Score                         0.846870   \n",
      "\n",
      "           Neural Network (SGD, Momentum, Early stopping)  \\\n",
      "Accuracy                                         0.858125   \n",
      "Recall                                           0.858125   \n",
      "Precision                                        0.847875   \n",
      "F1 Score                                         0.846532   \n",
      "\n",
      "           Neural Network (SGD, Momentum, Early stopping, Weight initialization)  \\\n",
      "Accuracy                                            0.859375                       \n",
      "Recall                                              0.859375                       \n",
      "Precision                                           0.849735                       \n",
      "F1 Score                                            0.845915                       \n",
      "\n",
      "           Neural Network (Adam, Early stopping)  \\\n",
      "Accuracy                                0.855625   \n",
      "Recall                                  0.855625   \n",
      "Precision                               0.844824   \n",
      "F1 Score                                0.843692   \n",
      "\n",
      "           Neural Network (Adam, Early stopping,learning rate)  \\\n",
      "Accuracy                                            0.860938     \n",
      "Recall                                              0.860938     \n",
      "Precision                                           0.851669     \n",
      "F1 Score                                            0.847766     \n",
      "\n",
      "           Neural Network (Adam, Early stopping,learning rate,dropout)  \\\n",
      "Accuracy                                            0.846875             \n",
      "Recall                                              0.846875             \n",
      "Precision                                           0.842314             \n",
      "F1 Score                                            0.819328             \n",
      "\n",
      "           Neural Network (Adam, Early stopping,learning rate,batch normalization)  \n",
      "Accuracy                                            0.863281                        \n",
      "Recall                                              0.863281                        \n",
      "Precision                                           0.854143                        \n",
      "F1 Score                                            0.852205                        \n"
     ]
    }
   ],
   "source": [
    "# training performance comparison\n",
    "\n",
    "models_train_comp_df = pd.concat(\n",
    "    [\n",
    "        model1_train_performance.T,\n",
    "        model2_train_performance.T,\n",
    "        model3_train_performance.T,\n",
    "        model4_train_performance.T,\n",
    "        model5_train_performance.T,\n",
    "        model6_train_performance.T,\n",
    "        model7_train_performance.T,\n",
    "        model8_train_performance.T\n",
    "    ],\n",
    "    axis=1,\n",
    ")\n",
    "models_train_comp_df.columns = [\n",
    "    \"Neural Network (SGD, No Regularization)\",\n",
    "    \"Neural Network (SGD, Momentum)\",\n",
    "    \"Neural Network (SGD, Momentum, Early stopping)\",\n",
    "    \"Neural Network (SGD, Momentum, Early stopping, Weight initialization)\",\n",
    "    \"Neural Network (Adam, Early stopping)\",\n",
    "    \"Neural Network (Adam, Early stopping,learning rate)\",\n",
    "    \"Neural Network (Adam, Early stopping,learning rate,dropout)\",\n",
    "    \"Neural Network (Adam, Early stopping,learning rate,batch normalization)\"\n",
    "]\n",
    "\n",
    "print(models_train_comp_df)\n",
    "\n"
   ]
  },
  {
   "cell_type": "code",
   "execution_count": 44,
   "metadata": {},
   "outputs": [
    {
     "name": "stdout",
     "output_type": "stream",
     "text": [
      "           Neural Network (SGD, No Regularization)  \\\n",
      "Accuracy                                  0.800625   \n",
      "Recall                                    0.800625   \n",
      "Precision                                 0.840550   \n",
      "F1 Score                                  0.716220   \n",
      "\n",
      "           Neural Network (SGD, Momentum)  \\\n",
      "Accuracy                         0.852500   \n",
      "Recall                           0.852500   \n",
      "Precision                        0.840960   \n",
      "F1 Score                         0.839182   \n",
      "\n",
      "           Neural Network (SGD, Momentum, Early stopping)  \\\n",
      "Accuracy                                         0.853750   \n",
      "Recall                                           0.853750   \n",
      "Precision                                        0.842612   \n",
      "F1 Score                                         0.839679   \n",
      "\n",
      "           Neural Network (SGD, Momentum, Early stopping, Weight initialization)  \\\n",
      "Accuracy                                            0.853750                       \n",
      "Recall                                              0.853750                       \n",
      "Precision                                           0.842541                       \n",
      "F1 Score                                            0.840259                       \n",
      "\n",
      "           Neural Network (Adam, Early stopping)  \\\n",
      "Accuracy                                0.850625   \n",
      "Recall                                  0.850625   \n",
      "Precision                               0.838787   \n",
      "F1 Score                                0.835191   \n",
      "\n",
      "           Neural Network (Adam, Early stopping,learning rate)  \\\n",
      "Accuracy                                            0.855625     \n",
      "Recall                                              0.855625     \n",
      "Precision                                           0.845498     \n",
      "F1 Score                                            0.840105     \n",
      "\n",
      "           Neural Network (Adam, Early stopping,learning rate,dropout)  \\\n",
      "Accuracy                                            0.836250             \n",
      "Recall                                              0.836250             \n",
      "Precision                                           0.830412             \n",
      "F1 Score                                            0.801577             \n",
      "\n",
      "           Neural Network (Adam, Early stopping,learning rate,batch normalization)  \n",
      "Accuracy                                            0.848125                        \n",
      "Recall                                              0.848125                        \n",
      "Precision                                           0.835509                        \n",
      "F1 Score                                            0.832745                        \n"
     ]
    }
   ],
   "source": [
    "# validation performance comparison\n",
    "\n",
    "models_valid_comp_df = pd.concat(\n",
    "    [\n",
    "        model1_valid_performance.T,\n",
    "        model2_valid_performance.T,\n",
    "        model3_valid_performance.T,\n",
    "        model4_valid_performance.T,\n",
    "        model5_valid_performance.T,\n",
    "        model6_valid_performance.T,\n",
    "        model7_valid_performance.T,\n",
    "        model8_valid_performance.T\n",
    "    ],\n",
    "    axis=1,\n",
    ")\n",
    "models_valid_comp_df.columns = [\n",
    "    \"Neural Network (SGD, No Regularization)\",\n",
    "    \"Neural Network (SGD, Momentum)\",\n",
    "    \"Neural Network (SGD, Momentum, Early stopping)\",\n",
    "    \"Neural Network (SGD, Momentum, Early stopping, Weight initialization)\",\n",
    "    \"Neural Network (Adam, Early stopping)\",\n",
    "    \"Neural Network (Adam, Early stopping,learning rate)\",\n",
    "    \"Neural Network (Adam, Early stopping,learning rate,dropout)\",\n",
    "    \"Neural Network (Adam, Early stopping,learning rate,batch normalization)\"\n",
    "]\n",
    "\n",
    "print(models_valid_comp_df)\n"
   ]
  },
  {
   "cell_type": "code",
   "execution_count": 45,
   "metadata": {},
   "outputs": [
    {
     "data": {
      "text/plain": [
       "Neural Network (SGD, No Regularization)                                    0.000156\n",
       "Neural Network (SGD, Momentum)                                             0.005937\n",
       "Neural Network (SGD, Momentum, Early stopping)                             0.004375\n",
       "Neural Network (SGD, Momentum, Early stopping, Weight initialization)      0.005625\n",
       "Neural Network (Adam, Early stopping)                                      0.005000\n",
       "Neural Network (Adam, Early stopping,learning rate)                        0.005313\n",
       "Neural Network (Adam, Early stopping,learning rate,dropout)                0.010625\n",
       "Neural Network (Adam, Early stopping,learning rate,batch normalization)    0.015156\n",
       "Name: Recall, dtype: float64"
      ]
     },
     "execution_count": 45,
     "metadata": {},
     "output_type": "execute_result"
    }
   ],
   "source": [
    "models_train_comp_df.loc[\"Recall\"] - models_valid_comp_df.loc[\"Recall\"]"
   ]
  },
  {
   "cell_type": "markdown",
   "metadata": {},
   "source": [
    "Final Model: Neural Network (SGD, Momentum, Early stopping, Weight initialization) \n",
    "Reasoning:\n",
    "\n",
    "\n",
    "Best recall score on the training set (~0.86), indicating strong performance in learning from the training data.\n",
    "Best recall score on the validation set (~0.85), demonstrating good performance in generalizing to unseen data.\n",
    "\n",
    "\n",
    "When considering validation scores only, Model 3 (Neural Network (SGD, Momentum, Early stopping)) and 4 (Neural Network (SGD, Momentum, Early stopping, Weight initialization)) produce the same scores, but I settled on model 4 because it has a slightly higher score on the training dataset, and has a regulation (weight initialization) introduced that can prevent overfitting of data in the real world case. It suggests its effectiveness in real-world applications and new data scenarios."
   ]
  },
  {
   "cell_type": "markdown",
   "metadata": {},
   "source": [
    "Final model with chosen model and testin using testing data"
   ]
  },
  {
   "cell_type": "code",
   "execution_count": 46,
   "metadata": {},
   "outputs": [
    {
     "name": "stdout",
     "output_type": "stream",
     "text": [
      "Model: \"sequential\"\n",
      "_________________________________________________________________\n",
      " Layer (type)                Output Shape              Param #   \n",
      "=================================================================\n",
      " dense (Dense)               (None, 14)                252       \n",
      "                                                                 \n",
      " dense_1 (Dense)             (None, 7)                 105       \n",
      "                                                                 \n",
      " dense_2 (Dense)             (None, 1)                 8         \n",
      "                                                                 \n",
      "=================================================================\n",
      "Total params: 365 (1.43 KB)\n",
      "Trainable params: 365 (1.43 KB)\n",
      "Non-trainable params: 0 (0.00 Byte)\n",
      "_________________________________________________________________\n"
     ]
    },
    {
     "name": "stderr",
     "output_type": "stream",
     "text": [
      "WARNING:absl:At this time, the v2.11+ optimizer `tf.keras.optimizers.SGD` runs slowly on M1/M2 Macs, please use the legacy Keras optimizer instead, located at `tf.keras.optimizers.legacy.SGD`.\n"
     ]
    },
    {
     "name": "stdout",
     "output_type": "stream",
     "text": [
      "Epoch 1/25\n",
      "100/100 [==============================] - 0s 2ms/step - loss: 0.5363 - val_loss: 0.5023\n",
      "Epoch 2/25\n",
      "100/100 [==============================] - 0s 691us/step - loss: 0.4817 - val_loss: 0.4839\n",
      "Epoch 3/25\n",
      "100/100 [==============================] - 0s 707us/step - loss: 0.4578 - val_loss: 0.4656\n",
      "Epoch 4/25\n",
      "100/100 [==============================] - 0s 741us/step - loss: 0.4346 - val_loss: 0.4475\n",
      "Epoch 5/25\n",
      "100/100 [==============================] - 0s 664us/step - loss: 0.4154 - val_loss: 0.4305\n",
      "Epoch 6/25\n",
      "100/100 [==============================] - 0s 689us/step - loss: 0.3986 - val_loss: 0.4163\n",
      "Epoch 7/25\n",
      "100/100 [==============================] - 0s 691us/step - loss: 0.3847 - val_loss: 0.4012\n",
      "Epoch 8/25\n",
      "100/100 [==============================] - 0s 685us/step - loss: 0.3745 - val_loss: 0.3894\n",
      "Epoch 9/25\n",
      "100/100 [==============================] - 0s 690us/step - loss: 0.3666 - val_loss: 0.3939\n",
      "Epoch 10/25\n",
      "100/100 [==============================] - 0s 667us/step - loss: 0.3626 - val_loss: 0.3785\n",
      "Epoch 11/25\n",
      "100/100 [==============================] - 0s 673us/step - loss: 0.3592 - val_loss: 0.3808\n",
      "Epoch 12/25\n",
      "100/100 [==============================] - 0s 658us/step - loss: 0.3561 - val_loss: 0.3774\n",
      "Epoch 13/25\n",
      "100/100 [==============================] - 0s 667us/step - loss: 0.3537 - val_loss: 0.3706\n",
      "Epoch 14/25\n",
      "100/100 [==============================] - 0s 715us/step - loss: 0.3511 - val_loss: 0.3732\n",
      "Epoch 15/25\n",
      "100/100 [==============================] - 0s 1ms/step - loss: 0.3507 - val_loss: 0.3715\n",
      "Epoch 16/25\n",
      "100/100 [==============================] - 0s 1ms/step - loss: 0.3485 - val_loss: 0.3692\n",
      "Epoch 17/25\n",
      "100/100 [==============================] - 0s 679us/step - loss: 0.3483 - val_loss: 0.3699\n",
      "Epoch 18/25\n",
      "100/100 [==============================] - 0s 640us/step - loss: 0.3471 - val_loss: 0.3693\n",
      "Epoch 19/25\n",
      "100/100 [==============================] - 0s 658us/step - loss: 0.3470 - val_loss: 0.3714\n",
      "Epoch 20/25\n",
      "100/100 [==============================] - 0s 667us/step - loss: 0.3461 - val_loss: 0.3725\n",
      "Epoch 21/25\n",
      "100/100 [==============================] - 0s 848us/step - loss: 0.3486 - val_loss: 0.3668\n",
      "Epoch 22/25\n",
      "100/100 [==============================] - 0s 782us/step - loss: 0.3465 - val_loss: 0.3730\n",
      "Epoch 23/25\n",
      "100/100 [==============================] - 0s 642us/step - loss: 0.3459 - val_loss: 0.3683\n",
      "Epoch 24/25\n",
      "100/100 [==============================] - 0s 636us/step - loss: 0.3435 - val_loss: 0.3808\n",
      "Epoch 25/25\n",
      "100/100 [==============================] - 0s 642us/step - loss: 0.3433 - val_loss: 0.3705\n",
      "Time taken in seconds  2.3502089977264404\n"
     ]
    },
    {
     "data": {
      "image/png": "[encoded data removed]",
      "text/plain": [
       "<Figure size 640x480 with 1 Axes>"
      ]
     },
     "metadata": {},
     "output_type": "display_data"
    }
   ],
   "source": [
    "# clears the current Keras session, resetting all layers and models previously created, freeing up memory and resources.\n",
    "tf.keras.backend.clear_session()\n",
    "\n",
    "#Initializing the neural network\n",
    "model = Sequential()\n",
    "model.add(Dense(14,activation=\"relu\",input_dim=X_train.shape[1],kernel_initializer ='he_normal'))\n",
    "model.add(Dense(7,activation=\"relu\"))\n",
    "model.add(Dense(1,activation=\"sigmoid\"))\n",
    "\n",
    "model.summary()\n",
    "\n",
    "\n",
    "optimizer = tf.keras.optimizers.SGD(momentum = 0.9)    # defining SGD as the optimizer to be used\n",
    "model.compile(loss='binary_crossentropy', optimizer=optimizer)\n",
    "\n",
    "start = time.time()\n",
    "history = model.fit(X_train, y_train, validation_data=(X_valid,y_valid) , batch_size=batch_size, epochs=epochs, callbacks=[es])\n",
    "end=time.time()\n",
    "\n",
    "print(\"Time taken in seconds \",end-start)\n",
    "\n",
    "plot(history,'loss')"
   ]
  },
  {
   "cell_type": "code",
   "execution_count": 47,
   "metadata": {},
   "outputs": [
    {
     "name": "stdout",
     "output_type": "stream",
     "text": [
      "200/200 [==============================] - 0s 390us/step\n",
      "   Accuracy    Recall  Precision  F1 Score\n",
      "0  0.858281  0.858281   0.848287  0.848588\n",
      "63/63 [==============================] - 0s 477us/step\n",
      "   Accuracy  Recall  Precision  F1 Score\n",
      "0     0.856   0.856    0.84524  0.843858\n"
     ]
    }
   ],
   "source": [
    "final_model_train_performance = model_performance_classification(model,X_train,y_train)\n",
    "print(final_model_train_performance)\n",
    "\n",
    "\n",
    "final_model_test_performance = model_performance_classification(model,X_test,y_test)\n",
    "print(final_model_test_performance)"
   ]
  }
 ],
 "metadata": {
  "kernelspec": {
   "display_name": "base",
   "language": "python",
   "name": "python3"
  },
  "language_info": {
   "codemirror_mode": {
    "name": "ipython",
    "version": 3
   },
   "file_extension": ".py",
   "mimetype": "text/x-python",
   "name": "python",
   "nbconvert_exporter": "python",
   "pygments_lexer": "ipython3",
   "version": "3.11.4"
  }
 },
 "nbformat": 4,
 "nbformat_minor": 2
}
