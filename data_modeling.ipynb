{
 "cells": [
  {
   "cell_type": "code",
   "execution_count": 12,
   "metadata": {},
   "outputs": [],
   "source": [
    "from utilities import *"
   ]
  },
  {
   "cell_type": "markdown",
   "metadata": {},
   "source": [
    "DATA PRE-PROCESSING"
   ]
  },
  {
   "cell_type": "code",
   "execution_count": 13,
   "metadata": {},
   "outputs": [],
   "source": [
    "Data = pd.read_csv('Churn.csv')\n",
    "df =Data.copy()"
   ]
  },
  {
   "cell_type": "code",
   "execution_count": 14,
   "metadata": {},
   "outputs": [
    {
     "data": {
      "text/plain": [
       "Index(['RowNumber', 'CustomerId', 'Surname', 'CreditScore', 'Geography',\n",
       "       'Gender', 'Age', 'Tenure', 'Balance', 'NumOfProducts', 'HasCrCard',\n",
       "       'IsActiveMember', 'EstimatedSalary', 'Exited'],\n",
       "      dtype='object')"
      ]
     },
     "execution_count": 14,
     "metadata": {},
     "output_type": "execute_result"
    }
   ],
   "source": [
    "df.columns"
   ]
  },
  {
   "cell_type": "code",
   "execution_count": 15,
   "metadata": {},
   "outputs": [],
   "source": [
    "# dropping columns rownumber, customerid and surname as they will not add value to the models:\n",
    "df.drop(['CustomerId','Surname'], axis=1, inplace=True)"
   ]
  },
  {
   "cell_type": "markdown",
   "metadata": {},
   "source": [
    "Binning the Age column to create a categorical variable. "
   ]
  },
  {
   "cell_type": "code",
   "execution_count": 16,
   "metadata": {},
   "outputs": [],
   "source": [
    "# Binning the age column\n",
    "df['Age'].unique()\n",
    "\n",
    "# Define bins and labels for the age groups\n",
    "bins = [18, 30, 40, 50, 60, 93]\n",
    "labels = ['18-29', '30-39', '40-49', '50-59', '60+']\n",
    "\n",
    "# Bin the ages\n",
    "age_groups = pd.cut(df['Age'], bins=bins, labels=labels, right=False)\n",
    "\n",
    "# Display the binned ages\n",
    "age_groups\n",
    "#adding this to the df\n",
    "df = df.assign(Age_binned=age_groups)\n"
   ]
  },
  {
   "cell_type": "markdown",
   "metadata": {},
   "source": [
    "Binning the creditscore column to create a categorical variable"
   ]
  },
  {
   "cell_type": "code",
   "execution_count": 17,
   "metadata": {},
   "outputs": [],
   "source": [
    "# binning the creditscore column\n",
    "# Define bins for credit score ranges\n",
    "credit_bins = [349, 450, 550, 650, 750, 850]\n",
    "credit_labels = ['350-449', '450-549', '550-649', '650-749', '750-850']\n",
    "\n",
    "# Bin the credit scores\n",
    "credit_score_groups = pd.cut(df['CreditScore'], bins=credit_bins, labels=credit_labels, right=True)\n",
    "\n",
    "# Display the binned credit scores\n",
    "credit_score_groups\n",
    "#adding this to the df\n",
    "df = df.assign(CreditScore_binned=credit_score_groups)"
   ]
  },
  {
   "cell_type": "code",
   "execution_count": 18,
   "metadata": {},
   "outputs": [],
   "source": [
    "# dropping the columns RowNumber, Age and CreditScore\n",
    "data = df.drop(['RowNumber','Age','CreditScore'], axis=1)"
   ]
  },
  {
   "cell_type": "code",
   "execution_count": 19,
   "metadata": {},
   "outputs": [
    {
     "name": "stdout",
     "output_type": "stream",
     "text": [
      "<class 'pandas.core.frame.DataFrame'>\n",
      "RangeIndex: 10000 entries, 0 to 9999\n",
      "Data columns (total 11 columns):\n",
      " #   Column              Non-Null Count  Dtype   \n",
      "---  ------              --------------  -----   \n",
      " 0   Geography           10000 non-null  category\n",
      " 1   Gender              10000 non-null  category\n",
      " 2   Tenure              10000 non-null  int64   \n",
      " 3   Balance             10000 non-null  float64 \n",
      " 4   NumOfProducts       10000 non-null  int64   \n",
      " 5   HasCrCard           10000 non-null  int64   \n",
      " 6   IsActiveMember      10000 non-null  int64   \n",
      " 7   EstimatedSalary     10000 non-null  float64 \n",
      " 8   Exited              10000 non-null  int64   \n",
      " 9   Age_binned          10000 non-null  category\n",
      " 10  CreditScore_binned  10000 non-null  category\n",
      "dtypes: category(4), float64(2), int64(5)\n",
      "memory usage: 586.7 KB\n"
     ]
    }
   ],
   "source": [
    "# Loop through the columns and convert only object columns to categorical\n",
    "for column in data.columns:\n",
    "    if data[column].dtype == 'object':\n",
    "        data[column] = data[column].astype('category')\n",
    "\n",
    "data.info()"
   ]
  },
  {
   "cell_type": "markdown",
   "metadata": {},
   "source": [
    "TRAIN -VALIDATION-TEST-SPLIT"
   ]
  },
  {
   "cell_type": "code",
   "execution_count": 20,
   "metadata": {},
   "outputs": [
    {
     "name": "stdout",
     "output_type": "stream",
     "text": [
      "(6400, 10) (6400,)\n",
      "(1600, 10) (1600,)\n",
      "(2000, 10) (2000,)\n"
     ]
    }
   ],
   "source": [
    "# sepearting independent from dependent variables\n",
    "X = data.drop(['Exited'],axis=1)\n",
    "Y = data['Exited']\n",
    "\n",
    "# Splitting the dataset into the Training and Test set.\n",
    "X_train, X_test, y_train, y_test = train_test_split(X,Y, test_size = 0.2, random_state = 42,stratify = Y)\n",
    "\n",
    "\n",
    "# Splitting the Train dataset into the Training and Validation set.\n",
    "X_train, X_valid, y_train, y_valid = train_test_split(X_train,y_train, test_size = 0.2, random_state = 42,stratify = y_train)\n",
    "\n",
    "\n",
    "#Printing the shapes.\n",
    "print(X_train.shape,y_train.shape)\n",
    "print(X_valid.shape,y_valid.shape)\n",
    "print(X_test.shape,y_test.shape)"
   ]
  },
  {
   "cell_type": "markdown",
   "metadata": {},
   "source": [
    "Dummy variable creation of categorical cariables"
   ]
  },
  {
   "cell_type": "code",
   "execution_count": 21,
   "metadata": {},
   "outputs": [
    {
     "name": "stdout",
     "output_type": "stream",
     "text": [
      "(6400, 17) (1600, 17) (2000, 17)\n"
     ]
    },
    {
     "data": {
      "text/plain": [
       "Index(['Tenure', 'Balance', 'NumOfProducts', 'HasCrCard', 'IsActiveMember',\n",
       "       'EstimatedSalary', 'Geography_Germany', 'Geography_Spain',\n",
       "       'Gender_Male', 'Age_binned_30-39', 'Age_binned_40-49',\n",
       "       'Age_binned_50-59', 'Age_binned_60+', 'CreditScore_binned_450-549',\n",
       "       'CreditScore_binned_550-649', 'CreditScore_binned_650-749',\n",
       "       'CreditScore_binned_750-850'],\n",
       "      dtype='object')"
      ]
     },
     "execution_count": 21,
     "metadata": {},
     "output_type": "execute_result"
    }
   ],
   "source": [
    "# creating dummy variables\n",
    "X_train = pd.get_dummies(X_train,drop_first = True)\n",
    "X_valid = pd.get_dummies(X_valid,drop_first = True)\n",
    "X_test = pd.get_dummies(X_test,drop_first = True)\n",
    "\n",
    "print(X_train.shape, X_valid.shape, X_test.shape)\n",
    "X_train.head()\n",
    "X_train.columns"
   ]
  },
  {
   "cell_type": "markdown",
   "metadata": {},
   "source": [
    "Data normalization "
   ]
  },
  {
   "cell_type": "code",
   "execution_count": 22,
   "metadata": {},
   "outputs": [],
   "source": [
    "#Standardizing the numerical variables to zero mean and unit variance.\n",
    "transformer = StandardScaler()\n",
    "X_train[['Tenure','Balance','NumOfProducts','EstimatedSalary']] = transformer.fit_transform(X_train[['Tenure','Balance','NumOfProducts','EstimatedSalary']])\n",
    "X_valid[['Tenure','Balance','NumOfProducts','EstimatedSalary']] = transformer.fit_transform(X_valid[['Tenure','Balance','NumOfProducts','EstimatedSalary']])\n",
    "X_test[['Tenure','Balance','NumOfProducts','EstimatedSalary']] = transformer.fit_transform(X_test[['Tenure','Balance','NumOfProducts','EstimatedSalary']])"
   ]
  },
  {
   "cell_type": "markdown",
   "metadata": {},
   "source": [
    "Building base model"
   ]
  },
  {
   "cell_type": "markdown",
   "metadata": {},
   "source": [
    "The model can make wrong predictions as:\n",
    "predicting the customer did not leave the bank and the customer actually leaving the bank.\n",
    "Predicting the customer leaving the bank and the customer actually not leaving the bank.\n",
    "Predicting the customer not leaving the bank and the customer actually leaving the bank is a more important case.\n",
    "The company would want recall to be minimized, as the greater the recall the higher the chances of minimizing false negatives.\n",
    "Hence the metric of importance is RECALL."
   ]
  },
  {
   "cell_type": "markdown",
   "metadata": {},
   "source": [
    "Neural Network with SGD Optimizer"
   ]
  },
  {
   "cell_type": "code",
   "execution_count": 23,
   "metadata": {},
   "outputs": [],
   "source": [
    "# defining the batch size and # epochs upfront as I'll be using the same values for all models\n",
    "epochs = 25\n",
    "batch_size = 64"
   ]
  },
  {
   "cell_type": "markdown",
   "metadata": {},
   "source": [
    "This neural network consists of:\n",
    "2 hidden layers with 14 and 7 neurons respectively\n",
    "Relu activation for both hidden layers\n",
    "SGD as optimizer\n",
    "sigmoid activation for output layer because it is a binary classification problem."
   ]
  },
  {
   "cell_type": "code",
   "execution_count": 35,
   "metadata": {},
   "outputs": [
    {
     "name": "stdout",
     "output_type": "stream",
     "text": [
      "Model: \"sequential_2\"\n",
      "_________________________________________________________________\n",
      " Layer (type)                Output Shape              Param #   \n",
      "=================================================================\n",
      " dense_6 (Dense)             (None, 14)                252       \n",
      "                                                                 \n",
      " dense_7 (Dense)             (None, 7)                 105       \n",
      "                                                                 \n",
      " dense_8 (Dense)             (None, 1)                 8         \n",
      "                                                                 \n"
     ]
    },
    {
     "name": "stdout",
     "output_type": "stream",
     "text": [
      "=================================================================\n",
      "Total params: 365 (1.43 KB)\n",
      "Trainable params: 365 (1.43 KB)\n",
      "Non-trainable params: 0 (0.00 Byte)\n",
      "_________________________________________________________________\n"
     ]
    }
   ],
   "source": [
    "#Initializing the neural network\n",
    "model = Sequential()\n",
    "model.add(Dense(14,activation=\"relu\",input_dim=X_train.shape[1]))\n",
    "model.add(Dense(7,activation=\"relu\"))\n",
    "model.add(Dense(1,activation=\"sigmoid\"))\n",
    "\n",
    "model.summary()"
   ]
  },
  {
   "cell_type": "code",
   "execution_count": 36,
   "metadata": {},
   "outputs": [
    {
     "name": "stderr",
     "output_type": "stream",
     "text": [
      "WARNING:absl:At this time, the v2.11+ optimizer `tf.keras.optimizers.SGD` runs slowly on M1/M2 Macs, please use the legacy Keras optimizer instead, located at `tf.keras.optimizers.legacy.SGD`.\n"
     ]
    },
    {
     "name": "stdout",
     "output_type": "stream",
     "text": [
      "Epoch 1/25\n",
      "100/100 [==============================] - 0s 1ms/step - loss: 0.5985 - val_loss: 0.5372\n",
      "Epoch 2/25\n",
      "100/100 [==============================] - 0s 684us/step - loss: 0.5139 - val_loss: 0.5132\n",
      "Epoch 3/25\n",
      "100/100 [==============================] - 0s 670us/step - loss: 0.4993 - val_loss: 0.5050\n",
      "Epoch 4/25\n",
      "100/100 [==============================] - 0s 669us/step - loss: 0.4917 - val_loss: 0.4989\n",
      "Epoch 5/25\n",
      "100/100 [==============================] - 0s 659us/step - loss: 0.4855 - val_loss: 0.4937\n",
      "Epoch 6/25\n",
      "100/100 [==============================] - 0s 665us/step - loss: 0.4798 - val_loss: 0.4888\n",
      "Epoch 7/25\n",
      "100/100 [==============================] - 0s 660us/step - loss: 0.4746 - val_loss: 0.4843\n",
      "Epoch 8/25\n",
      "100/100 [==============================] - 0s 645us/step - loss: 0.4696 - val_loss: 0.4800\n",
      "Epoch 9/25\n",
      "100/100 [==============================] - 0s 663us/step - loss: 0.4648 - val_loss: 0.4758\n",
      "Epoch 10/25\n",
      "100/100 [==============================] - 0s 656us/step - loss: 0.4602 - val_loss: 0.4717\n",
      "Epoch 11/25\n",
      "100/100 [==============================] - 0s 658us/step - loss: 0.4556 - val_loss: 0.4677\n",
      "Epoch 12/25\n",
      "100/100 [==============================] - 0s 648us/step - loss: 0.4510 - val_loss: 0.4637\n",
      "Epoch 13/25\n",
      "100/100 [==============================] - 0s 663us/step - loss: 0.4465 - val_loss: 0.4597\n",
      "Epoch 14/25\n",
      "100/100 [==============================] - 0s 654us/step - loss: 0.4420 - val_loss: 0.4558\n",
      "Epoch 15/25\n",
      "100/100 [==============================] - 0s 651us/step - loss: 0.4376 - val_loss: 0.4519\n",
      "Epoch 16/25\n",
      "100/100 [==============================] - 0s 655us/step - loss: 0.4332 - val_loss: 0.4482\n",
      "Epoch 17/25\n",
      "100/100 [==============================] - 0s 972us/step - loss: 0.4291 - val_loss: 0.4445\n",
      "Epoch 18/25\n",
      "100/100 [==============================] - 0s 664us/step - loss: 0.4249 - val_loss: 0.4407\n",
      "Epoch 19/25\n",
      "100/100 [==============================] - 0s 664us/step - loss: 0.4208 - val_loss: 0.4372\n",
      "Epoch 20/25\n",
      "100/100 [==============================] - 0s 660us/step - loss: 0.4168 - val_loss: 0.4335\n",
      "Epoch 21/25\n",
      "100/100 [==============================] - 0s 656us/step - loss: 0.4130 - val_loss: 0.4300\n",
      "Epoch 22/25\n",
      "100/100 [==============================] - 0s 653us/step - loss: 0.4093 - val_loss: 0.4265\n",
      "Epoch 23/25\n",
      "100/100 [==============================] - 0s 669us/step - loss: 0.4057 - val_loss: 0.4233\n",
      "Epoch 24/25\n",
      "100/100 [==============================] - 0s 665us/step - loss: 0.4024 - val_loss: 0.4204\n",
      "Epoch 25/25\n",
      "100/100 [==============================] - 0s 676us/step - loss: 0.3992 - val_loss: 0.4173\n",
      "Time taken in seconds  2.042720079421997\n"
     ]
    },
    {
     "data": {
      "image/png": "[encoded data removed]",
      "text/plain": [
       "<Figure size 640x480 with 1 Axes>"
      ]
     },
     "metadata": {},
     "output_type": "display_data"
    }
   ],
   "source": [
    "optimizer = tf.keras.optimizers.SGD()    # defining SGD as the optimizer to be used\n",
    "model.compile(loss='binary_crossentropy', optimizer=optimizer)\n",
    "\n",
    "start = time.time()\n",
    "history = model.fit(X_train, y_train, validation_data=(X_valid,y_valid) , batch_size=batch_size, epochs=epochs)\n",
    "end=time.time()\n",
    "\n",
    "print(\"Time taken in seconds \",end-start)\n",
    "\n",
    "plot(history,'loss')\n",
    "\n"
   ]
  },
  {
   "cell_type": "code",
   "execution_count": 37,
   "metadata": {},
   "outputs": [
    {
     "name": "stdout",
     "output_type": "stream",
     "text": [
      "200/200 [==============================] - 0s 554us/step\n",
      "   Accuracy    Recall  Precision  F1 Score\n",
      "0  0.823594  0.823594   0.804929   0.78767\n",
      "50/50 [==============================] - 0s 396us/step\n",
      "   Accuracy   Recall  Precision  F1 Score\n",
      "0   0.81875  0.81875   0.796022  0.781494\n"
     ]
    }
   ],
   "source": [
    "# Performance check\n",
    "model1_train_performance = model_performance_classification(model,X_train,y_train)\n",
    "print(model1_train_performance)\n",
    "\n",
    "model1_valid_performance = model_performance_classification(model,X_valid,y_valid)\n",
    "print(model1_valid_performance)\n",
    "\n"
   ]
  },
  {
   "cell_type": "markdown",
   "metadata": {},
   "source": [
    "The difference between train recall and validation score is less than ~1% which is a consistent performance of the model between the training and validation dataset.\n",
    "A score of above 80% for both training and validation dataset is good but has the potential to perform better with some other model improvements."
   ]
  },
  {
   "cell_type": "markdown",
   "metadata": {},
   "source": [
    "Model Improvements:"
   ]
  },
  {
   "cell_type": "markdown",
   "metadata": {},
   "source": [
    "Keeping the SGD optimizer and adding momentum to check whether it is accelerating the process.\n",
    "\n",
    "Neural Network with SGD Optimizer + momentum"
   ]
  },
  {
   "cell_type": "code",
   "execution_count": 38,
   "metadata": {},
   "outputs": [],
   "source": [
    "# clears the current Keras session, resetting all layers and models previously created, freeing up memory and resources.\n",
    "tf.keras.backend.clear_session()"
   ]
  },
  {
   "cell_type": "code",
   "execution_count": 39,
   "metadata": {},
   "outputs": [
    {
     "name": "stdout",
     "output_type": "stream",
     "text": [
      "Model: \"sequential\"\n",
      "_________________________________________________________________\n",
      " Layer (type)                Output Shape              Param #   \n",
      "=================================================================\n",
      " dense (Dense)               (None, 14)                252       \n",
      "                                                                 \n",
      " dense_1 (Dense)             (None, 7)                 105       \n",
      "                                                                 \n",
      " dense_2 (Dense)             (None, 1)                 8         \n",
      "                                                                 \n",
      "=================================================================\n",
      "Total params: 365 (1.43 KB)\n",
      "Trainable params: 365 (1.43 KB)\n",
      "Non-trainable params: 0 (0.00 Byte)\n",
      "_________________________________________________________________\n"
     ]
    }
   ],
   "source": [
    "#Initializing the neural network\n",
    "model = Sequential()\n",
    "model.add(Dense(14,activation=\"relu\",input_dim=X_train.shape[1]))\n",
    "model.add(Dense(7,activation=\"relu\"))\n",
    "model.add(Dense(1,activation=\"sigmoid\"))\n",
    "\n",
    "model.summary()"
   ]
  },
  {
   "cell_type": "code",
   "execution_count": 40,
   "metadata": {},
   "outputs": [
    {
     "name": "stderr",
     "output_type": "stream",
     "text": [
      "WARNING:absl:At this time, the v2.11+ optimizer `tf.keras.optimizers.SGD` runs slowly on M1/M2 Macs, please use the legacy Keras optimizer instead, located at `tf.keras.optimizers.legacy.SGD`.\n"
     ]
    },
    {
     "name": "stdout",
     "output_type": "stream",
     "text": [
      "Epoch 1/25\n",
      "100/100 [==============================] - 0s 2ms/step - loss: 0.5385 - val_loss: 0.4953\n",
      "Epoch 2/25\n",
      "100/100 [==============================] - 0s 678us/step - loss: 0.4708 - val_loss: 0.4626\n",
      "Epoch 3/25\n",
      "100/100 [==============================] - 0s 733us/step - loss: 0.4323 - val_loss: 0.4361\n",
      "Epoch 4/25\n",
      "100/100 [==============================] - 0s 674us/step - loss: 0.4057 - val_loss: 0.4163\n",
      "Epoch 5/25\n",
      "100/100 [==============================] - 0s 664us/step - loss: 0.3878 - val_loss: 0.4028\n",
      "Epoch 6/25\n",
      "100/100 [==============================] - 0s 678us/step - loss: 0.3752 - val_loss: 0.3897\n",
      "Epoch 7/25\n",
      "100/100 [==============================] - 0s 692us/step - loss: 0.3658 - val_loss: 0.3902\n",
      "Epoch 8/25\n",
      "100/100 [==============================] - 0s 659us/step - loss: 0.3607 - val_loss: 0.3781\n",
      "Epoch 9/25\n",
      "100/100 [==============================] - 0s 673us/step - loss: 0.3549 - val_loss: 0.3834\n",
      "Epoch 10/25\n",
      "100/100 [==============================] - 0s 671us/step - loss: 0.3539 - val_loss: 0.3716\n",
      "Epoch 11/25\n",
      "100/100 [==============================] - 0s 758us/step - loss: 0.3517 - val_loss: 0.3741\n",
      "Epoch 12/25\n",
      "100/100 [==============================] - 0s 651us/step - loss: 0.3494 - val_loss: 0.3749\n",
      "Epoch 13/25\n",
      "100/100 [==============================] - 0s 662us/step - loss: 0.3484 - val_loss: 0.3694\n",
      "Epoch 14/25\n",
      "100/100 [==============================] - 0s 691us/step - loss: 0.3463 - val_loss: 0.3720\n",
      "Epoch 15/25\n",
      "100/100 [==============================] - 0s 662us/step - loss: 0.3459 - val_loss: 0.3684\n",
      "Epoch 16/25\n",
      "100/100 [==============================] - 0s 666us/step - loss: 0.3445 - val_loss: 0.3679\n",
      "Epoch 17/25\n",
      "100/100 [==============================] - 0s 650us/step - loss: 0.3448 - val_loss: 0.3670\n",
      "Epoch 18/25\n",
      "100/100 [==============================] - 0s 676us/step - loss: 0.3439 - val_loss: 0.3664\n",
      "Epoch 19/25\n",
      "100/100 [==============================] - 0s 698us/step - loss: 0.3436 - val_loss: 0.3702\n",
      "Epoch 20/25\n",
      "100/100 [==============================] - 0s 660us/step - loss: 0.3425 - val_loss: 0.3693\n",
      "Epoch 21/25\n",
      "100/100 [==============================] - 0s 690us/step - loss: 0.3445 - val_loss: 0.3644\n",
      "Epoch 22/25\n",
      "100/100 [==============================] - 0s 1ms/step - loss: 0.3427 - val_loss: 0.3686\n",
      "Epoch 23/25\n",
      "100/100 [==============================] - 0s 837us/step - loss: 0.3410 - val_loss: 0.3673\n",
      "Epoch 24/25\n",
      "100/100 [==============================] - 0s 875us/step - loss: 0.3397 - val_loss: 0.3777\n",
      "Epoch 25/25\n",
      "100/100 [==============================] - 0s 745us/step - loss: 0.3410 - val_loss: 0.3644\n",
      "Time taken in seconds  2.3383140563964844\n"
     ]
    },
    {
     "data": {
      "image/png": "[encoded data removed]",
      "text/plain": [
       "<Figure size 640x480 with 1 Axes>"
      ]
     },
     "metadata": {},
     "output_type": "display_data"
    }
   ],
   "source": [
    "optimizer = tf.keras.optimizers.SGD(momentum = 0.9)    # defining SGD as the optimizer to be used\n",
    "model.compile(loss='binary_crossentropy', optimizer=optimizer)\n",
    "\n",
    "start = time.time()\n",
    "history = model.fit(X_train, y_train, validation_data=(X_valid,y_valid) , batch_size=batch_size, epochs=epochs)\n",
    "end=time.time()\n",
    "\n",
    "print(\"Time taken in seconds \",end-start)\n",
    "\n",
    "plot(history,'loss')\n"
   ]
  },
  {
   "cell_type": "code",
   "execution_count": 41,
   "metadata": {},
   "outputs": [
    {
     "name": "stdout",
     "output_type": "stream",
     "text": [
      "200/200 [==============================] - 0s 389us/step\n",
      "   Accuracy    Recall  Precision  F1 Score\n",
      "0  0.823594  0.823594   0.804929   0.78767\n",
      "50/50 [==============================] - 0s 379us/step\n",
      "   Accuracy    Recall  Precision  F1 Score\n",
      "0  0.846875  0.846875   0.833956  0.833197\n"
     ]
    }
   ],
   "source": [
    "# Performance check\n",
    "model2_train_performance = model_performance_classification(model,X_train,y_train)\n",
    "print(model1_train_performance)\n",
    "\n",
    "model2_valid_performance = model_performance_classification(model,X_valid,y_valid)\n",
    "print(model2_valid_performance)\n",
    "\n"
   ]
  },
  {
   "cell_type": "markdown",
   "metadata": {},
   "source": [
    "\n",
    "The recall on the validation dataset (~84.6%) is better than that of the training datase(~82.3%), which is good as it dincates it has the potential to perfrom well on unseen data. \n",
    "A score of above 80% for both training and validation dataset is good but has the potential to perform better with some other model improvements."
   ]
  },
  {
   "cell_type": "markdown",
   "metadata": {},
   "source": [
    "Neural Network with SGD Optimizer"
   ]
  },
  {
   "cell_type": "code",
   "execution_count": null,
   "metadata": {},
   "outputs": [],
   "source": []
  }
 ],
 "metadata": {
  "kernelspec": {
   "display_name": "base",
   "language": "python",
   "name": "python3"
  },
  "language_info": {
   "codemirror_mode": {
    "name": "ipython",
    "version": 3
   },
   "file_extension": ".py",
   "mimetype": "text/x-python",
   "name": "python",
   "nbconvert_exporter": "python",
   "pygments_lexer": "ipython3",
   "version": "3.11.4"
  }
 },
 "nbformat": 4,
 "nbformat_minor": 2
}
