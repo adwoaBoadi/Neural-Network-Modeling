{
 "cells": [
  {
   "cell_type": "code",
   "execution_count": 1,
   "metadata": {},
   "outputs": [],
   "source": [
    "from utilities import *"
   ]
  },
  {
   "cell_type": "markdown",
   "metadata": {},
   "source": [
    "DATA PRE-PROCESSING"
   ]
  },
  {
   "cell_type": "code",
   "execution_count": 2,
   "metadata": {},
   "outputs": [],
   "source": [
    "Data = pd.read_csv('Churn.csv')\n",
    "df =Data.copy()"
   ]
  },
  {
   "cell_type": "code",
   "execution_count": 3,
   "metadata": {},
   "outputs": [
    {
     "data": {
      "text/plain": [
       "Index(['RowNumber', 'CustomerId', 'Surname', 'CreditScore', 'Geography',\n",
       "       'Gender', 'Age', 'Tenure', 'Balance', 'NumOfProducts', 'HasCrCard',\n",
       "       'IsActiveMember', 'EstimatedSalary', 'Exited'],\n",
       "      dtype='object')"
      ]
     },
     "execution_count": 3,
     "metadata": {},
     "output_type": "execute_result"
    }
   ],
   "source": [
    "df.columns"
   ]
  },
  {
   "cell_type": "code",
   "execution_count": 4,
   "metadata": {},
   "outputs": [],
   "source": [
    "# dropping columns rownumber, customerid and surname as they will not add value to the models:\n",
    "df.drop(['CustomerId','Surname'], axis=1, inplace=True)"
   ]
  },
  {
   "cell_type": "markdown",
   "metadata": {},
   "source": [
    "Binning the Age column to create a categorical variable. "
   ]
  },
  {
   "cell_type": "code",
   "execution_count": 5,
   "metadata": {},
   "outputs": [],
   "source": [
    "# Binning the age column\n",
    "df['Age'].unique()\n",
    "\n",
    "# Define bins and labels for the age groups\n",
    "bins = [18, 30, 40, 50, 60, 93]\n",
    "labels = ['18-29', '30-39', '40-49', '50-59', '60+']\n",
    "\n",
    "# Bin the ages\n",
    "age_groups = pd.cut(df['Age'], bins=bins, labels=labels, right=False)\n",
    "\n",
    "# Display the binned ages\n",
    "age_groups\n",
    "#adding this to the df\n",
    "df = df.assign(Age_binned=age_groups)\n"
   ]
  },
  {
   "cell_type": "markdown",
   "metadata": {},
   "source": [
    "Binning the creditscore column to create a categorical variable"
   ]
  },
  {
   "cell_type": "code",
   "execution_count": 6,
   "metadata": {},
   "outputs": [],
   "source": [
    "# binning the creditscore column\n",
    "# Define bins for credit score ranges\n",
    "credit_bins = [349, 450, 550, 650, 750, 850]\n",
    "credit_labels = ['350-449', '450-549', '550-649', '650-749', '750-850']\n",
    "\n",
    "# Bin the credit scores\n",
    "credit_score_groups = pd.cut(df['CreditScore'], bins=credit_bins, labels=credit_labels, right=True)\n",
    "\n",
    "# Display the binned credit scores\n",
    "credit_score_groups\n",
    "#adding this to the df\n",
    "df = df.assign(CreditScore_binned=credit_score_groups)"
   ]
  },
  {
   "cell_type": "code",
   "execution_count": 7,
   "metadata": {},
   "outputs": [],
   "source": [
    "# dropping the columns RowNumber, Age and CreditScore\n",
    "data = df.drop(['RowNumber','Age','CreditScore'], axis=1)"
   ]
  },
  {
   "cell_type": "code",
   "execution_count": 8,
   "metadata": {},
   "outputs": [
    {
     "name": "stdout",
     "output_type": "stream",
     "text": [
      "<class 'pandas.core.frame.DataFrame'>\n",
      "RangeIndex: 10000 entries, 0 to 9999\n",
      "Data columns (total 11 columns):\n",
      " #   Column              Non-Null Count  Dtype   \n",
      "---  ------              --------------  -----   \n",
      " 0   Geography           10000 non-null  category\n",
      " 1   Gender              10000 non-null  category\n",
      " 2   Tenure              10000 non-null  int64   \n",
      " 3   Balance             10000 non-null  float64 \n",
      " 4   NumOfProducts       10000 non-null  int64   \n",
      " 5   HasCrCard           10000 non-null  int64   \n",
      " 6   IsActiveMember      10000 non-null  int64   \n",
      " 7   EstimatedSalary     10000 non-null  float64 \n",
      " 8   Exited              10000 non-null  int64   \n",
      " 9   Age_binned          10000 non-null  category\n",
      " 10  CreditScore_binned  10000 non-null  category\n",
      "dtypes: category(4), float64(2), int64(5)\n",
      "memory usage: 586.7 KB\n"
     ]
    }
   ],
   "source": [
    "# Loop through the columns and convert only object columns to categorical\n",
    "for column in data.columns:\n",
    "    if data[column].dtype == 'object':\n",
    "        data[column] = data[column].astype('category')\n",
    "\n",
    "data.info()"
   ]
  },
  {
   "cell_type": "markdown",
   "metadata": {},
   "source": [
    "TRAIN -VALIDATION-TEST-SPLIT"
   ]
  },
  {
   "cell_type": "code",
   "execution_count": 9,
   "metadata": {},
   "outputs": [
    {
     "name": "stdout",
     "output_type": "stream",
     "text": [
      "(6400, 10) (6400,)\n",
      "(1600, 10) (1600,)\n",
      "(2000, 10) (2000,)\n"
     ]
    }
   ],
   "source": [
    "# sepearting independent from dependent variables\n",
    "X = data.drop(['Exited'],axis=1)\n",
    "Y = data['Exited']\n",
    "\n",
    "# Splitting the dataset into the Training and Test set.\n",
    "X_train, X_test, y_train, y_test = train_test_split(X,Y, test_size = 0.2, random_state = 42,stratify = Y)\n",
    "\n",
    "\n",
    "# Splitting the Train dataset into the Training and Validation set.\n",
    "X_train, X_valid, y_train, y_valid = train_test_split(X_train,y_train, test_size = 0.2, random_state = 42,stratify = y_train)\n",
    "\n",
    "\n",
    "#Printing the shapes.\n",
    "print(X_train.shape,y_train.shape)\n",
    "print(X_valid.shape,y_valid.shape)\n",
    "print(X_test.shape,y_test.shape)"
   ]
  },
  {
   "cell_type": "markdown",
   "metadata": {},
   "source": [
    "Dummy variable creation of categorical cariables"
   ]
  },
  {
   "cell_type": "code",
   "execution_count": 10,
   "metadata": {},
   "outputs": [
    {
     "name": "stdout",
     "output_type": "stream",
     "text": [
      "(6400, 17) (1600, 17) (2000, 17)\n"
     ]
    },
    {
     "data": {
      "text/plain": [
       "Index(['Tenure', 'Balance', 'NumOfProducts', 'HasCrCard', 'IsActiveMember',\n",
       "       'EstimatedSalary', 'Geography_Germany', 'Geography_Spain',\n",
       "       'Gender_Male', 'Age_binned_30-39', 'Age_binned_40-49',\n",
       "       'Age_binned_50-59', 'Age_binned_60+', 'CreditScore_binned_450-549',\n",
       "       'CreditScore_binned_550-649', 'CreditScore_binned_650-749',\n",
       "       'CreditScore_binned_750-850'],\n",
       "      dtype='object')"
      ]
     },
     "execution_count": 10,
     "metadata": {},
     "output_type": "execute_result"
    }
   ],
   "source": [
    "# creating dummy variables\n",
    "X_train = pd.get_dummies(X_train,drop_first = True)\n",
    "X_valid = pd.get_dummies(X_valid,drop_first = True)\n",
    "X_test = pd.get_dummies(X_test,drop_first = True)\n",
    "\n",
    "print(X_train.shape, X_valid.shape, X_test.shape)\n",
    "X_train.head()\n",
    "X_train.columns"
   ]
  },
  {
   "cell_type": "markdown",
   "metadata": {},
   "source": [
    "Data normalization "
   ]
  },
  {
   "cell_type": "code",
   "execution_count": 11,
   "metadata": {},
   "outputs": [],
   "source": [
    "#Standardizing the numerical variables to zero mean and unit variance.\n",
    "transformer = StandardScaler()\n",
    "X_train[['Tenure','Balance','NumOfProducts','EstimatedSalary']] = transformer.fit_transform(X_train[['Tenure','Balance','NumOfProducts','EstimatedSalary']])\n",
    "X_valid[['Tenure','Balance','NumOfProducts','EstimatedSalary']] = transformer.fit_transform(X_valid[['Tenure','Balance','NumOfProducts','EstimatedSalary']])\n",
    "X_test[['Tenure','Balance','NumOfProducts','EstimatedSalary']] = transformer.fit_transform(X_test[['Tenure','Balance','NumOfProducts','EstimatedSalary']])"
   ]
  },
  {
   "cell_type": "markdown",
   "metadata": {},
   "source": [
    "Building base model"
   ]
  },
  {
   "cell_type": "code",
   "execution_count": null,
   "metadata": {},
   "outputs": [],
   "source": []
  }
 ],
 "metadata": {
  "kernelspec": {
   "display_name": "base",
   "language": "python",
   "name": "python3"
  },
  "language_info": {
   "codemirror_mode": {
    "name": "ipython",
    "version": 3
   },
   "file_extension": ".py",
   "mimetype": "text/x-python",
   "name": "python",
   "nbconvert_exporter": "python",
   "pygments_lexer": "ipython3",
   "version": "3.11.4"
  }
 },
 "nbformat": 4,
 "nbformat_minor": 2
}
